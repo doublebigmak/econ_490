{
 "cells": [
  {
   "cell_type": "code",
   "execution_count": 1,
   "metadata": {},
   "outputs": [],
   "source": [
    "from bs4 import BeautifulSoup\n",
    "import requests\n",
    "import re\n",
    "import numpy as np\n",
    "import pandas as pd\n",
    "from datetime import datetime\n"
   ]
  },
  {
   "cell_type": "code",
   "execution_count": 49,
   "metadata": {},
   "outputs": [],
   "source": [
    "new_url = 'https://www.federalreserve.gov/monetarypolicy/fomccalendars.htm'\n",
    "\n",
    "def getNewDates(url):\n",
    "    \n",
    "    #initialize lists\n",
    "    years=[]\n",
    "    dates=[]\n",
    "\n",
    "    econ_proj_dates = []\n",
    "\n",
    "    response=requests.get(new_url, timeout=10)\n",
    "    parsed_content = BeautifulSoup(response.content, \"html.parser\")\n",
    "\n",
    "    article = parsed_content.find(attrs={'id':'article'})\n",
    "    year_panels = article.find_all(attrs={'class':'panel panel-default'})\n",
    "    panel_headings = article.find_all(attrs={'class':'panel-heading'})\n",
    "    \n",
    "    \n",
    "    for item in year_panels:\n",
    "    \n",
    "        years.append(item.find('a').string.split()[0])\n",
    "        year = item.find('a').string.split()[0]\n",
    "        months = item.find_all(class_='fomc-meeting__month')\n",
    "        days = item.find_all(class_='fomc-meeting__date')\n",
    "    \n",
    "        for i in range(len(months)):\n",
    "            unscheduled = 0\n",
    "            econ_proj = 0\n",
    "            month = months[i].string.split('/')[-1:][0]\n",
    "        \n",
    "            day = re.sub('\\D',\"\", days[i].string.split('-')[-1:][0])\n",
    "\n",
    "            try:\n",
    "                date=datetime.strptime(year+month+day,'%Y%B%d')\n",
    "            except ValueError:\n",
    "                date=datetime.strptime(year+month+day,'%Y%b%d')\n",
    "            dates.append(date.strftime(\"%Y%m%d\"))\n",
    "            if '*' in days[i].string.split('-')[-1:][0]:\n",
    "                econ_proj = 1\n",
    "            #if 'unscheduled' in days[i].string.split('-')[-1:][0]:\n",
    "            #    unscheduled = 1\n",
    "        \n",
    "            #unscheduled_dates.append(unscheduled)\n",
    "            econ_proj_dates.append(econ_proj)\n",
    "        \n",
    "\n",
    "    release_dates = pd.DataFrame({'Dates':dates,\n",
    "                                  'Summary of Econ Projections':econ_proj_dates})\n",
    "    return release_dates\n",
    "\n",
    "release_dates = getNewDates(new_url)"
   ]
  },
  {
   "cell_type": "code",
   "execution_count": 50,
   "metadata": {},
   "outputs": [
    {
     "data": {
      "text/html": [
       "<div>\n",
       "<style scoped>\n",
       "    .dataframe tbody tr th:only-of-type {\n",
       "        vertical-align: middle;\n",
       "    }\n",
       "\n",
       "    .dataframe tbody tr th {\n",
       "        vertical-align: top;\n",
       "    }\n",
       "\n",
       "    .dataframe thead th {\n",
       "        text-align: right;\n",
       "    }\n",
       "</style>\n",
       "<table border=\"1\" class=\"dataframe\">\n",
       "  <thead>\n",
       "    <tr style=\"text-align: right;\">\n",
       "      <th></th>\n",
       "      <th>Dates</th>\n",
       "      <th>Summary of Econ Projections</th>\n",
       "    </tr>\n",
       "  </thead>\n",
       "  <tbody>\n",
       "    <tr>\n",
       "      <th>40</th>\n",
       "      <td>20140129</td>\n",
       "      <td>0</td>\n",
       "    </tr>\n",
       "    <tr>\n",
       "      <th>41</th>\n",
       "      <td>20140304</td>\n",
       "      <td>0</td>\n",
       "    </tr>\n",
       "    <tr>\n",
       "      <th>42</th>\n",
       "      <td>20140319</td>\n",
       "      <td>1</td>\n",
       "    </tr>\n",
       "    <tr>\n",
       "      <th>43</th>\n",
       "      <td>20140430</td>\n",
       "      <td>0</td>\n",
       "    </tr>\n",
       "    <tr>\n",
       "      <th>44</th>\n",
       "      <td>20140618</td>\n",
       "      <td>1</td>\n",
       "    </tr>\n",
       "    <tr>\n",
       "      <th>45</th>\n",
       "      <td>20140730</td>\n",
       "      <td>0</td>\n",
       "    </tr>\n",
       "    <tr>\n",
       "      <th>46</th>\n",
       "      <td>20140917</td>\n",
       "      <td>1</td>\n",
       "    </tr>\n",
       "    <tr>\n",
       "      <th>47</th>\n",
       "      <td>20141029</td>\n",
       "      <td>0</td>\n",
       "    </tr>\n",
       "    <tr>\n",
       "      <th>48</th>\n",
       "      <td>20141217</td>\n",
       "      <td>1</td>\n",
       "    </tr>\n",
       "    <tr>\n",
       "      <th>32</th>\n",
       "      <td>20150128</td>\n",
       "      <td>0</td>\n",
       "    </tr>\n",
       "    <tr>\n",
       "      <th>33</th>\n",
       "      <td>20150318</td>\n",
       "      <td>1</td>\n",
       "    </tr>\n",
       "    <tr>\n",
       "      <th>34</th>\n",
       "      <td>20150429</td>\n",
       "      <td>0</td>\n",
       "    </tr>\n",
       "    <tr>\n",
       "      <th>35</th>\n",
       "      <td>20150617</td>\n",
       "      <td>1</td>\n",
       "    </tr>\n",
       "    <tr>\n",
       "      <th>36</th>\n",
       "      <td>20150729</td>\n",
       "      <td>0</td>\n",
       "    </tr>\n",
       "    <tr>\n",
       "      <th>37</th>\n",
       "      <td>20150917</td>\n",
       "      <td>1</td>\n",
       "    </tr>\n",
       "    <tr>\n",
       "      <th>38</th>\n",
       "      <td>20151028</td>\n",
       "      <td>0</td>\n",
       "    </tr>\n",
       "    <tr>\n",
       "      <th>39</th>\n",
       "      <td>20151216</td>\n",
       "      <td>1</td>\n",
       "    </tr>\n",
       "    <tr>\n",
       "      <th>24</th>\n",
       "      <td>20160127</td>\n",
       "      <td>0</td>\n",
       "    </tr>\n",
       "    <tr>\n",
       "      <th>25</th>\n",
       "      <td>20160316</td>\n",
       "      <td>1</td>\n",
       "    </tr>\n",
       "    <tr>\n",
       "      <th>26</th>\n",
       "      <td>20160427</td>\n",
       "      <td>0</td>\n",
       "    </tr>\n",
       "    <tr>\n",
       "      <th>27</th>\n",
       "      <td>20160615</td>\n",
       "      <td>1</td>\n",
       "    </tr>\n",
       "    <tr>\n",
       "      <th>28</th>\n",
       "      <td>20160727</td>\n",
       "      <td>0</td>\n",
       "    </tr>\n",
       "    <tr>\n",
       "      <th>29</th>\n",
       "      <td>20160921</td>\n",
       "      <td>1</td>\n",
       "    </tr>\n",
       "    <tr>\n",
       "      <th>30</th>\n",
       "      <td>20161102</td>\n",
       "      <td>0</td>\n",
       "    </tr>\n",
       "    <tr>\n",
       "      <th>31</th>\n",
       "      <td>20161214</td>\n",
       "      <td>1</td>\n",
       "    </tr>\n",
       "    <tr>\n",
       "      <th>16</th>\n",
       "      <td>20170201</td>\n",
       "      <td>0</td>\n",
       "    </tr>\n",
       "    <tr>\n",
       "      <th>17</th>\n",
       "      <td>20170315</td>\n",
       "      <td>1</td>\n",
       "    </tr>\n",
       "    <tr>\n",
       "      <th>18</th>\n",
       "      <td>20170503</td>\n",
       "      <td>0</td>\n",
       "    </tr>\n",
       "    <tr>\n",
       "      <th>19</th>\n",
       "      <td>20170614</td>\n",
       "      <td>1</td>\n",
       "    </tr>\n",
       "    <tr>\n",
       "      <th>20</th>\n",
       "      <td>20170726</td>\n",
       "      <td>0</td>\n",
       "    </tr>\n",
       "    <tr>\n",
       "      <th>21</th>\n",
       "      <td>20170920</td>\n",
       "      <td>1</td>\n",
       "    </tr>\n",
       "    <tr>\n",
       "      <th>22</th>\n",
       "      <td>20171101</td>\n",
       "      <td>0</td>\n",
       "    </tr>\n",
       "    <tr>\n",
       "      <th>23</th>\n",
       "      <td>20171213</td>\n",
       "      <td>1</td>\n",
       "    </tr>\n",
       "    <tr>\n",
       "      <th>8</th>\n",
       "      <td>20180131</td>\n",
       "      <td>0</td>\n",
       "    </tr>\n",
       "    <tr>\n",
       "      <th>9</th>\n",
       "      <td>20180321</td>\n",
       "      <td>1</td>\n",
       "    </tr>\n",
       "    <tr>\n",
       "      <th>10</th>\n",
       "      <td>20180502</td>\n",
       "      <td>0</td>\n",
       "    </tr>\n",
       "    <tr>\n",
       "      <th>11</th>\n",
       "      <td>20180613</td>\n",
       "      <td>1</td>\n",
       "    </tr>\n",
       "    <tr>\n",
       "      <th>12</th>\n",
       "      <td>20180801</td>\n",
       "      <td>0</td>\n",
       "    </tr>\n",
       "    <tr>\n",
       "      <th>13</th>\n",
       "      <td>20180926</td>\n",
       "      <td>1</td>\n",
       "    </tr>\n",
       "    <tr>\n",
       "      <th>14</th>\n",
       "      <td>20181108</td>\n",
       "      <td>0</td>\n",
       "    </tr>\n",
       "    <tr>\n",
       "      <th>15</th>\n",
       "      <td>20181219</td>\n",
       "      <td>1</td>\n",
       "    </tr>\n",
       "    <tr>\n",
       "      <th>0</th>\n",
       "      <td>20190130</td>\n",
       "      <td>0</td>\n",
       "    </tr>\n",
       "    <tr>\n",
       "      <th>1</th>\n",
       "      <td>20190320</td>\n",
       "      <td>1</td>\n",
       "    </tr>\n",
       "    <tr>\n",
       "      <th>2</th>\n",
       "      <td>20190501</td>\n",
       "      <td>0</td>\n",
       "    </tr>\n",
       "    <tr>\n",
       "      <th>3</th>\n",
       "      <td>20190619</td>\n",
       "      <td>1</td>\n",
       "    </tr>\n",
       "    <tr>\n",
       "      <th>4</th>\n",
       "      <td>20190731</td>\n",
       "      <td>0</td>\n",
       "    </tr>\n",
       "    <tr>\n",
       "      <th>5</th>\n",
       "      <td>20190918</td>\n",
       "      <td>1</td>\n",
       "    </tr>\n",
       "    <tr>\n",
       "      <th>6</th>\n",
       "      <td>20191030</td>\n",
       "      <td>0</td>\n",
       "    </tr>\n",
       "    <tr>\n",
       "      <th>7</th>\n",
       "      <td>20191211</td>\n",
       "      <td>1</td>\n",
       "    </tr>\n",
       "  </tbody>\n",
       "</table>\n",
       "</div>"
      ],
      "text/plain": [
       "       Dates  Summary of Econ Projections\n",
       "40  20140129                            0\n",
       "41  20140304                            0\n",
       "42  20140319                            1\n",
       "43  20140430                            0\n",
       "44  20140618                            1\n",
       "45  20140730                            0\n",
       "46  20140917                            1\n",
       "47  20141029                            0\n",
       "48  20141217                            1\n",
       "32  20150128                            0\n",
       "33  20150318                            1\n",
       "34  20150429                            0\n",
       "35  20150617                            1\n",
       "36  20150729                            0\n",
       "37  20150917                            1\n",
       "38  20151028                            0\n",
       "39  20151216                            1\n",
       "24  20160127                            0\n",
       "25  20160316                            1\n",
       "26  20160427                            0\n",
       "27  20160615                            1\n",
       "28  20160727                            0\n",
       "29  20160921                            1\n",
       "30  20161102                            0\n",
       "31  20161214                            1\n",
       "16  20170201                            0\n",
       "17  20170315                            1\n",
       "18  20170503                            0\n",
       "19  20170614                            1\n",
       "20  20170726                            0\n",
       "21  20170920                            1\n",
       "22  20171101                            0\n",
       "23  20171213                            1\n",
       "8   20180131                            0\n",
       "9   20180321                            1\n",
       "10  20180502                            0\n",
       "11  20180613                            1\n",
       "12  20180801                            0\n",
       "13  20180926                            1\n",
       "14  20181108                            0\n",
       "15  20181219                            1\n",
       "0   20190130                            0\n",
       "1   20190320                            1\n",
       "2   20190501                            0\n",
       "3   20190619                            1\n",
       "4   20190731                            0\n",
       "5   20190918                            1\n",
       "6   20191030                            0\n",
       "7   20191211                            1"
      ]
     },
     "execution_count": 50,
     "metadata": {},
     "output_type": "execute_result"
    }
   ],
   "source": [
    "release_dates.sort_values(by='Dates')"
   ]
  },
  {
   "cell_type": "markdown",
   "metadata": {},
   "source": [
    "### TODO\n",
    "Capture unscheduled meeting dates\n",
    "\n",
    "Capture economic projection dates"
   ]
  },
  {
   "cell_type": "code",
   "execution_count": null,
   "metadata": {},
   "outputs": [],
   "source": [
    "months = year_panels[5].find_all(class_='fomc-meeting__month')\n",
    "days = year_panels[5].find_all(class_='fomc-meeting__date')\n"
   ]
  },
  {
   "cell_type": "code",
   "execution_count": null,
   "metadata": {},
   "outputs": [],
   "source": []
  },
  {
   "cell_type": "code",
   "execution_count": null,
   "metadata": {},
   "outputs": [],
   "source": [
    "dates = []\n",
    "regex = re.compile(r'[^[0-9]+$]')\n",
    "for i in range(len(months)):\n",
    "    \n",
    "    month = months[i].string.split('/')[-1:][0]\n",
    "    day = day = re.sub('\\D',\"\", days[i].string.split('-')[-1:][0])\n",
    "\n",
    "    date=datetime.strptime(month+day,'%B%d')\n",
    "    dates.append(date.strftime(\"%m%d\"))\n",
    "    \n",
    "    "
   ]
  },
  {
   "cell_type": "code",
   "execution_count": null,
   "metadata": {},
   "outputs": [],
   "source": [
    "\n",
    "day = re.sub('\\D',\"\", days[i].string.split('-')[-1:][0])\n",
    "day"
   ]
  },
  {
   "cell_type": "code",
   "execution_count": null,
   "metadata": {},
   "outputs": [],
   "source": [
    "months[1].string.split('/')[-1:][0]"
   ]
  },
  {
   "cell_type": "code",
   "execution_count": null,
   "metadata": {},
   "outputs": [],
   "source": [
    "days[1].string.split('-')[-1:][0]"
   ]
  },
  {
   "cell_type": "code",
   "execution_count": 3,
   "metadata": {},
   "outputs": [
    {
     "ename": "NameError",
     "evalue": "name 'dates' is not defined",
     "output_type": "error",
     "traceback": [
      "\u001b[1;31m---------------------------------------------------------------------------\u001b[0m",
      "\u001b[1;31mNameError\u001b[0m                                 Traceback (most recent call last)",
      "\u001b[1;32m<ipython-input-3-ab39814b9f5b>\u001b[0m in \u001b[0;36m<module>\u001b[1;34m\u001b[0m\n\u001b[1;32m----> 1\u001b[1;33m \u001b[0mdates\u001b[0m\u001b[1;33m\u001b[0m\u001b[1;33m\u001b[0m\u001b[0m\n\u001b[0m",
      "\u001b[1;31mNameError\u001b[0m: name 'dates' is not defined"
     ]
    }
   ],
   "source": [
    "dates"
   ]
  },
  {
   "cell_type": "code",
   "execution_count": 68,
   "metadata": {},
   "outputs": [],
   "source": [
    "year = str(2000) # placeholder year \n",
    "historical_url = 'https://www.federalreserve.gov/monetarypolicy/fomchistorical'+year+'.htm'\n",
    "response=requests.get(historical_url, timeout=10)\n",
    "\n",
    "parsed_content = BeautifulSoup(response.content, \"html.parser\")\n",
    "panels = parsed_content.find_all(class_='panel-default')\n",
    "\n"
   ]
  },
  {
   "cell_type": "code",
   "execution_count": 69,
   "metadata": {},
   "outputs": [
    {
     "data": {
      "text/plain": [
       "[<div class=\"panel panel-default\">\n",
       " <div class=\"panel-heading\">\n",
       " <h5>February 1-2 Meeting - 2000</h5>\n",
       " </div>\n",
       " <div class=\"row divided-row panel-body\">\n",
       " <div class=\"col-xs-12 col-md-6\">\n",
       " <p>Beige Book: <a href=\"/monetarypolicy/files/fomc20000202beige20000119.pdf\">2.05 MB PDF</a> | <a href=\"/fomc/beigebook/2000/20000119/default.htm\">HTML</a></p>\n",
       " <p>\n",
       " <a href=\"/monetarypolicy/files/fomc20000202gbpt120000127.pdf\">Greenbook (2.04 MB PDF)</a>\n",
       " <br/><a href=\"/monetarypolicy/files/fomc20000202gbsup20000128.pdf\">Supplement (389 KB PDF)</a>\n",
       " </p>\n",
       " <p><a href=\"/monetarypolicy/files/fomc20000202bluebook20000128.pdf\">Bluebook (1.91 MB PDF)</a></p>\n",
       " <p><a href=\"/monetarypolicy/files/FOMC20000202Agenda.pdf\">Agenda (67 KB PDF)</a></p>\n",
       " </div>\n",
       " <div class=\"col-xs-12 col-md-6\">\n",
       " <p><a href=\"/boarddocs/press/general/2000/20000202/\">Statement</a></p>\n",
       " <p><a href=\"/fomc/minutes/20000202.htm\">Minutes</a> (Released March 23, 2000)</p>\n",
       " <p><a href=\"/monetarypolicy/files/FOMC20000202meeting.pdf\">Transcript (344 KB PDF)</a><br/><a href=\"/monetarypolicy/files/FOMC20000202material.pdf\">Presentation materials (3.97 MB PDF)</a></p>\n",
       " </div>\n",
       " </div>\n",
       " </div>, <div class=\"panel panel-default\">\n",
       " <div class=\"panel-heading\">\n",
       " <h5>March 21 Meeting - 2000</h5>\n",
       " </div>\n",
       " <div class=\"row divided-row panel-body\">\n",
       " <div class=\"col-xs-12 col-md-6\">\n",
       " <p>Beige Book: <a href=\"/monetarypolicy/files/fomc20000321beige20000308.pdf\">2.17 MB PDF</a> | <a href=\"/fomc/beigebook/2000/20000308/default.htm\">HTML</a></p>\n",
       " <p>Greenbook:\n",
       " \n",
       "                 <br/><a href=\"/monetarypolicy/files/fomc20000321gbpt120000315.pdf\">Part 1 (2.26 MB PDF)</a>\n",
       " <br/><a href=\"/monetarypolicy/files/fomc20000321gbpt220000315.pdf\">Part 2 (4.88 MB PDF)</a>\n",
       " <br/><a href=\"/monetarypolicy/files/fomc20000321gbsup20000317.pdf\">Supplement (711 KB PDF)</a>\n",
       " </p>\n",
       " <p><a href=\"/monetarypolicy/files/fomc20000321bluebook20000317.pdf\">Bluebook (863 KB PDF)</a></p>\n",
       " <p><a href=\"/monetarypolicy/files/FOMC20000321Agenda.pdf\">Agenda (31 KB PDF)</a></p>\n",
       " </div>\n",
       " <div class=\"col-xs-12 col-md-6\">\n",
       " <p><a href=\"/boarddocs/press/general/2000/20000321/\">Statement</a></p>\n",
       " <p><a href=\"/fomc/minutes/20000321.htm\">Minutes</a> (Released May 18, 2000)</p>\n",
       " <p><a href=\"/monetarypolicy/files/FOMC20000321meeting.pdf\">Transcript (225 KB PDF)</a><br/><a href=\"/monetarypolicy/files/FOMC20000321material.pdf\">Presentation materials (1.38 MB PDF)</a></p>\n",
       " </div>\n",
       " </div>\n",
       " </div>, <div class=\"panel panel-default\">\n",
       " <div class=\"panel-heading\">\n",
       " <h5>May 16 Meeting - 2000</h5>\n",
       " </div>\n",
       " <div class=\"row divided-row panel-body\">\n",
       " <div class=\"col-xs-12 col-md-6\">\n",
       " <p>Beige Book: <a href=\"/monetarypolicy/files/fomc20000516beige20000503.pdf\">2.12 MB PDF</a> | <a href=\"/fomc/beigebook/2000/20000503/default.htm\">HTML</a></p>\n",
       " <p>Greenbook:\n",
       " \n",
       "                 <br/><a href=\"/monetarypolicy/files/fomc20000516gbpt120000511.pdf\">Part 1 (2.18 MB PDF)</a>\n",
       " <br/><a href=\"/monetarypolicy/files/fomc20000516gbpt220000511.pdf\">Part 2 (4.23 MB PDF)</a>\n",
       " <br/><a href=\"/monetarypolicy/files/fomc20000516gbsup20000512.pdf\">Supplement (459 KB PDF)</a>\n",
       " </p>\n",
       " <p><a href=\"/monetarypolicy/files/fomc20000516bluebook20000512.pdf\">Bluebook (785 KB PDF)</a></p>\n",
       " <p><a href=\"/monetarypolicy/files/FOMC20000516Agenda.pdf\">Agenda (25 KB PDF)</a></p>\n",
       " </div>\n",
       " <div class=\"col-xs-12 col-md-6\">\n",
       " <p><a href=\"/boarddocs/press/general/2000/20000516/\">Statement</a></p>\n",
       " <p><a href=\"/fomc/minutes/20000516.htm\">Minutes</a> (Released June 29, 2000)</p>\n",
       " <p><a href=\"/monetarypolicy/files/FOMC20000516meeting.pdf\">Transcript (235 KB PDF)</a><br/><a href=\"/monetarypolicy/files/FOMC20000516material.pdf\">Presentation materials (2.15 MB PDF)</a></p>\n",
       " </div>\n",
       " </div>\n",
       " </div>, <div class=\"panel panel-default\">\n",
       " <div class=\"panel-heading\">\n",
       " <h5>June 27-28 Meeting - 2000</h5>\n",
       " </div>\n",
       " <div class=\"row divided-row panel-body\">\n",
       " <div class=\"col-xs-12 col-md-6\">\n",
       " <p>Beige Book: <a href=\"/monetarypolicy/files/fomc20000628beige20000614.pdf\">2.12 MB PDF</a> | <a href=\"/fomc/beigebook/2000/20000614/default.htm\">HTML</a></p>\n",
       " <p>Greenbook:\n",
       " \n",
       "                 <br/><a href=\"/monetarypolicy/files/fomc20000628gbpt120000621.pdf\">Part 1 (1.88 MB PDF)</a>\n",
       " <br/><a href=\"/monetarypolicy/files/fomc20000628gbpt220000621.pdf\">Part 2 (3.88 MB PDF)</a>\n",
       " <br/><a href=\"/monetarypolicy/files/fomc20000628gbsup20000623.pdf\">Supplement (66 KB PDF)</a>\n",
       " </p>\n",
       " <p><a href=\"/monetarypolicy/files/fomc20000628bluebook20000623.pdf\">Bluebook (1.4 MB PDF)</a></p>\n",
       " <p><a href=\"/monetarypolicy/files/FOMC20000628Agenda.pdf\">Agenda (29 KB PDF)</a></p>\n",
       " </div>\n",
       " <div class=\"col-xs-12 col-md-6\">\n",
       " <p><a href=\"/boarddocs/press/general/2000/20000628/\">Statement</a></p>\n",
       " <p><a href=\"/fomc/minutes/20000628.htm\">Minutes</a> (Released August 24, 2000)</p>\n",
       " <p><a href=\"/monetarypolicy/files/FOMC20000628meeting.pdf\">Transcript (288 KB PDF)</a><br/><a href=\"/monetarypolicy/files/FOMC20000628material.pdf\">Presentation materials (2.48 MB PDF)</a></p>\n",
       " </div>\n",
       " </div>\n",
       " </div>, <div class=\"panel panel-default\">\n",
       " <div class=\"panel-heading\">\n",
       " <h5>August 22 Meeting - 2000</h5>\n",
       " </div>\n",
       " <div class=\"row divided-row panel-body\">\n",
       " <div class=\"col-xs-12 col-md-6\">\n",
       " <p>Beige Book: <a href=\"/monetarypolicy/files/fomc20000822beige20000809.pdf\">2.23 MB PDF</a> | <a href=\"/fomc/beigebook/2000/20000809/default.htm\">HTML</a></p>\n",
       " <p>Greenbook:\n",
       " \n",
       "                 <br/><a href=\"/monetarypolicy/files/fomc20000822gbpt120000816.pdf\">Part 1 (1.88 MB PDF)</a>\n",
       " <br/><a href=\"/monetarypolicy/files/fomc20000822gbpt220000816.pdf\">Part 2 (5.48 MB PDF)</a>\n",
       " <br/><a href=\"/monetarypolicy/files/fomc20000822gbsup20000818.pdf\">Supplement (292 KB PDF)</a>\n",
       " </p>\n",
       " <p><a href=\"/monetarypolicy/files/fomc20000822bluebook20000818.pdf\">Bluebook (685 KB PDF)</a></p>\n",
       " <p><a href=\"/monetarypolicy/files/FOMC20000822Agenda.pdf\">Agenda (27 KB PDF)</a></p>\n",
       " </div>\n",
       " <div class=\"col-xs-12 col-md-6\">\n",
       " <p><a href=\"/boarddocs/press/general/2000/20000822/\">Statement</a></p>\n",
       " <p><a href=\"/fomc/minutes/20000822.htm\">Minutes</a> (Released October 5, 2000)</p>\n",
       " <p><a href=\"/monetarypolicy/files/FOMC20000822meeting.pdf\">Transcript (218 KB PDF)</a><br/><a href=\"/monetarypolicy/files/FOMC20000822material.pdf\">Presentation materials (1.1 MB PDF)</a></p>\n",
       " </div>\n",
       " </div>\n",
       " </div>, <div class=\"panel panel-default\">\n",
       " <div class=\"panel-heading\">\n",
       " <h5>October 3 Meeting - 2000</h5>\n",
       " </div>\n",
       " <div class=\"row divided-row panel-body\">\n",
       " <div class=\"col-xs-12 col-md-6\">\n",
       " <p>Beige Book: <a href=\"/monetarypolicy/files/fomc20001003beige20000920.pdf\">2.24 MB PDF</a> | <a href=\"/fomc/beigebook/2000/20000920/default.htm\">HTML</a></p>\n",
       " <p>Greenbook:\n",
       " \n",
       "                 <br/><a href=\"/monetarypolicy/files/fomc20001003gbpt120000927.pdf\">Part 1 (2.1 MB PDF)</a>\n",
       " <br/><a href=\"/monetarypolicy/files/fomc20001003gbpt220000927.pdf\">Part 2 (3.95 MB PDF)</a>\n",
       " <br/><a href=\"/monetarypolicy/files/fomc20001003gbsup20000929.pdf\">Supplement (488 KB PDF)</a>\n",
       " </p>\n",
       " <p><a href=\"/monetarypolicy/files/fomc20001003bluebook20000929.pdf\">Bluebook (674 KB PDF)</a></p>\n",
       " <p><a href=\"/monetarypolicy/files/FOMC20001003Agenda.pdf\">Agenda (27 KB PDF)</a></p>\n",
       " </div>\n",
       " <div class=\"col-xs-12 col-md-6\">\n",
       " <p><a href=\"/boarddocs/press/general/2000/20001003/\">Statement</a></p>\n",
       " <p><a href=\"/fomc/minutes/20001003.htm\">Minutes</a> (Released November 16, 2000)</p>\n",
       " <p><a href=\"/monetarypolicy/files/FOMC20001003meeting.pdf\">Transcript (233 KB PDF)</a><br/><a href=\"/monetarypolicy/files/FOMC20001003material.pdf\">Presentation materials (1.07 MB PDF)</a></p>\n",
       " </div>\n",
       " </div>\n",
       " </div>, <div class=\"panel panel-default\">\n",
       " <div class=\"panel-heading\">\n",
       " <h5>November 15 Meeting - 2000</h5>\n",
       " </div>\n",
       " <div class=\"row divided-row panel-body\">\n",
       " <div class=\"col-xs-12 col-md-6\">\n",
       " <p>Beige Book: <a href=\"/monetarypolicy/files/fomc20001115beige20001101.pdf\">2.19 MB PDF</a> | <a href=\"/fomc/beigebook/2000/20001101/default.htm\">HTML</a></p>\n",
       " <p>Greenbook:\n",
       " \n",
       "                 <br/><a href=\"/monetarypolicy/files/fomc20001115gbpt120001108.pdf\">Part 1 (1.93 MB PDF)</a>\n",
       " <br/><a href=\"/monetarypolicy/files/fomc20001115gbpt220001108.pdf\">Part 2 (4.11 MB PDF)</a>\n",
       " <br/><a href=\"/monetarypolicy/files/fomc20001115gbsup20001109.pdf\">Supplement (346 KB PDF)</a>\n",
       " </p>\n",
       " <p><a href=\"/monetarypolicy/files/fomc20001115bluebook20001109.pdf\">Bluebook (731 KB PDF)</a></p>\n",
       " <p><a href=\"/monetarypolicy/files/FOMC20001115Agenda.pdf\">Agenda (24 KB PDF)</a></p>\n",
       " </div>\n",
       " <div class=\"col-xs-12 col-md-6\">\n",
       " <p><a href=\"/boarddocs/press/general/2000/20001115/\">Statement</a></p>\n",
       " <p><a href=\"/fomc/minutes/20001115.htm\">Minutes</a> (Released December 21, 2000)</p>\n",
       " <p><a href=\"/monetarypolicy/files/FOMC20001115meeting.pdf\">Transcript (230 KB PDF)</a><br/><a href=\"/monetarypolicy/files/FOMC20001115material.pdf\">Presentation materials (679 KB PDF)</a></p>\n",
       " </div>\n",
       " </div>\n",
       " </div>, <div class=\"panel panel-default\">\n",
       " <div class=\"panel-heading\">\n",
       " <h5>December 19 Meeting - 2000</h5>\n",
       " </div>\n",
       " <div class=\"row divided-row panel-body\">\n",
       " <div class=\"col-xs-12 col-md-6\">\n",
       " <p>Beige Book: <a href=\"/monetarypolicy/files/fomc20001219beige20001206.pdf\">2.18 MB PDF</a> | <a href=\"/fomc/beigebook/2000/20001206/default.htm\">HTML</a></p>\n",
       " <p>Greenbook:\n",
       " \n",
       "                 <br/><a href=\"/monetarypolicy/files/fomc20001219gbpt120001213.pdf\">Part 1 (1.98 MB PDF)</a>\n",
       " <br/><a href=\"/monetarypolicy/files/fomc20001219gbpt220001213.pdf\">Part 2 (4.29 MB PDF)</a>\n",
       " <br/><a href=\"/monetarypolicy/files/fomc20001219gbsup20001215.pdf\">Supplement (663 KB PDF)</a>\n",
       " </p>\n",
       " <p><a href=\"/monetarypolicy/files/fomc20001219bluebook20001214.pdf\">Bluebook (1.17 MB PDF)</a></p>\n",
       " <p><a href=\"/monetarypolicy/files/FOMC20001219Agenda.pdf\">Agenda (24 KB PDF)</a></p>\n",
       " </div>\n",
       " <div class=\"col-xs-12 col-md-6\">\n",
       " <p><a href=\"/boarddocs/press/general/2000/20001219/\">Statement</a></p>\n",
       " <p><a href=\"/fomc/minutes/20001219.htm\">Minutes</a> (Released February 1, 2001)</p>\n",
       " <p><a href=\"/monetarypolicy/files/FOMC20001219meeting.pdf\">Transcript (210 KB PDF)</a><br/><a href=\"/monetarypolicy/files/FOMC20001219material.pdf\">Presentation materials (911 KB PDF)</a></p>\n",
       " </div>\n",
       " </div>\n",
       " </div>]"
      ]
     },
     "execution_count": 69,
     "metadata": {},
     "output_type": "execute_result"
    }
   ],
   "source": [
    "panels"
   ]
  },
  {
   "cell_type": "code",
   "execution_count": 70,
   "metadata": {},
   "outputs": [
    {
     "data": {
      "text/plain": [
       "<div class=\"panel panel-default\">\n",
       "<div class=\"panel-heading\">\n",
       "<h5>June 27-28 Meeting - 2000</h5>\n",
       "</div>\n",
       "<div class=\"row divided-row panel-body\">\n",
       "<div class=\"col-xs-12 col-md-6\">\n",
       "<p>Beige Book: <a href=\"/monetarypolicy/files/fomc20000628beige20000614.pdf\">2.12 MB PDF</a> | <a href=\"/fomc/beigebook/2000/20000614/default.htm\">HTML</a></p>\n",
       "<p>Greenbook:\n",
       "\n",
       "                <br/><a href=\"/monetarypolicy/files/fomc20000628gbpt120000621.pdf\">Part 1 (1.88 MB PDF)</a>\n",
       "<br/><a href=\"/monetarypolicy/files/fomc20000628gbpt220000621.pdf\">Part 2 (3.88 MB PDF)</a>\n",
       "<br/><a href=\"/monetarypolicy/files/fomc20000628gbsup20000623.pdf\">Supplement (66 KB PDF)</a>\n",
       "</p>\n",
       "<p><a href=\"/monetarypolicy/files/fomc20000628bluebook20000623.pdf\">Bluebook (1.4 MB PDF)</a></p>\n",
       "<p><a href=\"/monetarypolicy/files/FOMC20000628Agenda.pdf\">Agenda (29 KB PDF)</a></p>\n",
       "</div>\n",
       "<div class=\"col-xs-12 col-md-6\">\n",
       "<p><a href=\"/boarddocs/press/general/2000/20000628/\">Statement</a></p>\n",
       "<p><a href=\"/fomc/minutes/20000628.htm\">Minutes</a> (Released August 24, 2000)</p>\n",
       "<p><a href=\"/monetarypolicy/files/FOMC20000628meeting.pdf\">Transcript (288 KB PDF)</a><br/><a href=\"/monetarypolicy/files/FOMC20000628material.pdf\">Presentation materials (2.48 MB PDF)</a></p>\n",
       "</div>\n",
       "</div>\n",
       "</div>"
      ]
     },
     "execution_count": 70,
     "metadata": {},
     "output_type": "execute_result"
    }
   ],
   "source": [
    "panels[1].find_all('a')\n",
    "panels[3]"
   ]
  },
  {
   "cell_type": "code",
   "execution_count": 89,
   "metadata": {},
   "outputs": [],
   "source": [
    "\n",
    "def parse_state_date(panels):\n",
    "    dates=[]\n",
    "    for item in panels:\n",
    "        for a in item.find_all('a', href=True):\n",
    "            if \"Statement\" in a.string:\n",
    "            \n",
    "                #date_str = panel.find(attrs={'class':\"panel-heading panel-heading--shaded\"}).string\n",
    "                if re.sub('\\D',\"\", a['href'].split('/')[-1])=='':\n",
    "                    \n",
    "                    date=re.sub('\\D',\"\", a['href'].split('/')[-2])\n",
    "                else:\n",
    "                    date=re.sub('\\D',\"\", a['href'].split('/')[-1])\n",
    "                dates.append(date)\n",
    "    \n",
    "    return dates\n",
    "\n",
    "\n",
    "def parse_proj(panels):\n",
    "    \n",
    "    projection_dates=[]\n",
    "    for item in panels:\n",
    "        \n",
    "        for a in item.find_all('a', href=True):\n",
    "            econ_proj = 0\n",
    "            if \"Statement\" in a.string:\n",
    "                for i in item.find_all('a', href=True):\n",
    "                    if \"Individual Projections\" in i.string:\n",
    "                        econ_proj = 1\n",
    "                \n",
    "                projection_dates.append(econ_proj)\n",
    "\n",
    "    return projection_dates\n",
    "\n",
    "\n",
    "            \n"
   ]
  },
  {
   "cell_type": "code",
   "execution_count": 87,
   "metadata": {},
   "outputs": [
    {
     "name": "stdout",
     "output_type": "stream",
     "text": [
      "Statement\n",
      "\n",
      "True\n"
     ]
    }
   ],
   "source": [
    "for a in panels[0].find_all('a',href=True):\n",
    "    if \"Statement\" in a.string:\n",
    "        print(a.string)\n",
    "        print(re.sub('\\D',\"\", a['href'].split('/')[-1]))\n",
    "        print(re.sub('\\D',\"\", a['href'].split('/')[-1])=='')"
   ]
  },
  {
   "cell_type": "code",
   "execution_count": 90,
   "metadata": {},
   "outputs": [
    {
     "data": {
      "text/plain": [
       "['20000202',\n",
       " '20000321',\n",
       " '20000516',\n",
       " '20000628',\n",
       " '20000822',\n",
       " '20001003',\n",
       " '20001115',\n",
       " '20001219']"
      ]
     },
     "execution_count": 90,
     "metadata": {},
     "output_type": "execute_result"
    }
   ],
   "source": [
    "parse_state_date(panels)"
   ]
  },
  {
   "cell_type": "code",
   "execution_count": 91,
   "metadata": {},
   "outputs": [
    {
     "data": {
      "text/plain": [
       "[0, 0, 0, 0, 0, 0, 0, 0]"
      ]
     },
     "execution_count": 91,
     "metadata": {},
     "output_type": "execute_result"
    }
   ],
   "source": [
    "parse_proj(panels)"
   ]
  },
  {
   "cell_type": "code",
   "execution_count": 94,
   "metadata": {},
   "outputs": [],
   "source": [
    "old_release_dates=pd.DataFrame(columns=['Dates','Summary of Econ Projections'])\n",
    "for year in range(2000,2014,1):\n",
    "    year = str(year)\n",
    "    historical_url = 'https://www.federalreserve.gov/monetarypolicy/fomchistorical'+year+'.htm'\n",
    "    response=requests.get(historical_url, timeout=10)\n",
    "\n",
    "    parsed_content = BeautifulSoup(response.content, \"html.parser\")\n",
    "    panels = parsed_content.find_all(class_='panel-default')\n",
    "\n",
    "    \n",
    "    old_dates = pd.DataFrame({'Dates':parse_state_date(panels),\n",
    "                              'Summary of Econ Projections':parse_proj(panels)})\n",
    "    old_release_dates = old_release_dates.append(old_dates)"
   ]
  },
  {
   "cell_type": "code",
   "execution_count": 95,
   "metadata": {},
   "outputs": [],
   "source": [
    "all_dates = old_release_dates.append(release_dates)\n"
   ]
  },
  {
   "cell_type": "code",
   "execution_count": 100,
   "metadata": {},
   "outputs": [],
   "source": [
    "all_dates.sort_values(by='Dates').to_csv(r'statement_dates.csv',index=None,header=True)"
   ]
  },
  {
   "cell_type": "code",
   "execution_count": 7,
   "metadata": {},
   "outputs": [
    {
     "ename": "TypeError",
     "evalue": "parse_item() takes 1 positional argument but 4 were given",
     "output_type": "error",
     "traceback": [
      "\u001b[1;31m---------------------------------------------------------------------------\u001b[0m",
      "\u001b[1;31mTypeError\u001b[0m                                 Traceback (most recent call last)",
      "\u001b[1;32m<ipython-input-7-d786648deafe>\u001b[0m in \u001b[0;36m<module>\u001b[1;34m\u001b[0m\n\u001b[0;32m      4\u001b[0m \u001b[1;33m\u001b[0m\u001b[0m\n\u001b[0;32m      5\u001b[0m \u001b[1;32mfor\u001b[0m \u001b[0mpanel\u001b[0m \u001b[1;32min\u001b[0m \u001b[0mpanels\u001b[0m\u001b[1;33m:\u001b[0m\u001b[1;33m\u001b[0m\u001b[1;33m\u001b[0m\u001b[0m\n\u001b[1;32m----> 6\u001b[1;33m     \u001b[0mdate\u001b[0m\u001b[1;33m,\u001b[0m \u001b[0mecon_proj\u001b[0m\u001b[1;33m,\u001b[0m \u001b[0munscheduled\u001b[0m \u001b[1;33m=\u001b[0m \u001b[0mparse_item\u001b[0m\u001b[1;33m(\u001b[0m\u001b[0mpanel\u001b[0m\u001b[1;33m,\u001b[0m\u001b[0mdates\u001b[0m\u001b[1;33m,\u001b[0m\u001b[0munscheduled_dates\u001b[0m\u001b[1;33m,\u001b[0m\u001b[0mecon_proj_dates\u001b[0m\u001b[1;33m)\u001b[0m\u001b[1;33m\u001b[0m\u001b[1;33m\u001b[0m\u001b[0m\n\u001b[0m\u001b[0;32m      7\u001b[0m \u001b[1;33m\u001b[0m\u001b[0m\n\u001b[0;32m      8\u001b[0m     \u001b[0mdates\u001b[0m\u001b[1;33m.\u001b[0m\u001b[0mappend\u001b[0m\u001b[1;33m(\u001b[0m\u001b[0mdate\u001b[0m\u001b[1;33m)\u001b[0m\u001b[1;33m\u001b[0m\u001b[1;33m\u001b[0m\u001b[0m\n",
      "\u001b[1;31mTypeError\u001b[0m: parse_item() takes 1 positional argument but 4 were given"
     ]
    }
   ],
   "source": [
    "dates=[]\n",
    "unscheduled_dates = []\n",
    "econ_proj_dates = []\n",
    "\n",
    "for panel in panels:\n",
    "    date, econ_proj, unscheduled = parse_item(panel,dates,unscheduled_dates,econ_proj_dates)\n",
    "\n",
    "    dates.append(date)\n",
    "    econ_proj_dates.append(econ_proj)\n",
    "    unscheduled_dates.append(unscheduled)"
   ]
  },
  {
   "cell_type": "code",
   "execution_count": 72,
   "metadata": {},
   "outputs": [
    {
     "data": {
      "text/plain": [
       "<a href=\"/monetarypolicy/beigebook/beigebook201303.htm\">HTML</a>"
      ]
     },
     "execution_count": 72,
     "metadata": {},
     "output_type": "execute_result"
    }
   ],
   "source": [
    "panels[1].find_all('a')[1]"
   ]
  },
  {
   "cell_type": "code",
   "execution_count": 11,
   "metadata": {},
   "outputs": [],
   "source": [
    "date_str = panels[1].find(attrs={'class':\"panel-heading panel-heading--shaded\"}).string"
   ]
  },
  {
   "cell_type": "code",
   "execution_count": 12,
   "metadata": {},
   "outputs": [
    {
     "data": {
      "text/plain": [
       "True"
      ]
     },
     "execution_count": 12,
     "metadata": {},
     "output_type": "execute_result"
    }
   ],
   "source": [
    "'Meeting' in date_str"
   ]
  },
  {
   "cell_type": "code",
   "execution_count": 13,
   "metadata": {},
   "outputs": [
    {
     "data": {
      "text/plain": [
       "['March', '19-20', 'Meeting', '-', '2013']"
      ]
     },
     "execution_count": 13,
     "metadata": {},
     "output_type": "execute_result"
    }
   ],
   "source": [
    "\n",
    "date_split = date_str.split()\n",
    "date_split"
   ]
  },
  {
   "cell_type": "code",
   "execution_count": 43,
   "metadata": {},
   "outputs": [],
   "source": [
    "if date_split[2] == 'Meeting':\n",
    "    month = date_split[0]\n",
    "    day = date_split[1].split('-')[-1]\n",
    "    year = date_split[4]\n",
    "    \n",
    "    try:\n",
    "        date=datetime.strptime(year+month+day,'%Y%B%d')\n",
    "    except ValueError:\n",
    "        date=datetime.strptime(year+month+day,'%Y%b%d')\n",
    "    \n",
    "    #append frame"
   ]
  },
  {
   "cell_type": "code",
   "execution_count": 42,
   "metadata": {},
   "outputs": [
    {
     "data": {
      "text/plain": [
       "'January'"
      ]
     },
     "execution_count": 42,
     "metadata": {},
     "output_type": "execute_result"
    }
   ],
   "source": [
    "month"
   ]
  },
  {
   "cell_type": "code",
   "execution_count": 38,
   "metadata": {},
   "outputs": [
    {
     "data": {
      "text/plain": [
       "datetime.datetime(2013, 1, 30, 0, 0)"
      ]
     },
     "execution_count": 38,
     "metadata": {},
     "output_type": "execute_result"
    }
   ],
   "source": [
    "date"
   ]
  },
  {
   "cell_type": "code",
   "execution_count": null,
   "metadata": {},
   "outputs": [],
   "source": []
  },
  {
   "cell_type": "code",
   "execution_count": null,
   "metadata": {},
   "outputs": [],
   "source": []
  },
  {
   "cell_type": "code",
   "execution_count": null,
   "metadata": {},
   "outputs": [],
   "source": []
  }
 ],
 "metadata": {
  "kernelspec": {
   "display_name": "Python 3",
   "language": "python",
   "name": "python3"
  },
  "language_info": {
   "codemirror_mode": {
    "name": "ipython",
    "version": 3
   },
   "file_extension": ".py",
   "mimetype": "text/x-python",
   "name": "python",
   "nbconvert_exporter": "python",
   "pygments_lexer": "ipython3",
   "version": "3.7.2"
  }
 },
 "nbformat": 4,
 "nbformat_minor": 2
}
