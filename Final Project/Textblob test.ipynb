{
 "cells": [
  {
   "cell_type": "code",
   "execution_count": 1,
   "metadata": {},
   "outputs": [],
   "source": [
    "from textblob import TextBlob\n",
    "import csv"
   ]
  },
  {
   "cell_type": "code",
   "execution_count": 3,
   "metadata": {},
   "outputs": [],
   "source": [
    "with open('20040128.csv') as f:\n",
    "    s = f.read()"
   ]
  },
  {
   "cell_type": "code",
   "execution_count": 4,
   "metadata": {},
   "outputs": [
    {
     "data": {
      "text/plain": [
       "'\"The Federal Open Market Committee decided today to keep its target for the federal funds rate at 1 percent.The Committee continues to believe that an accommodative stance of monetary policy, coupled with robust underlying growth in productivity, is providing important ongoing support to economic activity.  The evidence accumulated over the intermeeting period confirms that output is expanding briskly.  Although new hiring remains subdued, other indicators suggest an improvement in the labor market.  Increases in core consumer prices are muted and expected to remain low.The Committee perceives that the upside and downside risks to the attainment of sustainable growth for the next few quarters are roughly equal.  The probability of an unwelcome fall in inflation has diminished in recent months and now appears almost equal to that of a rise in inflation.   With inflation quite low and resource use slack, the Committee believes that it can be patient in removing its policy accommodation.Voting for the FOMC monetary policy action were: Alan Greenspan, Chairman; Timothy F. Geithner, Vice Chairman; Ben S. Bernanke; Susan S. Bies; Roger W. Ferguson, Jr.; Edward M. Gramlich; Thomas M. Hoenig; Donald L. Kohn; Cathy E. Minehan; Mark W. Olson; Sandra Pianalto; and William Poole.      2004 Monetary policy Home | News and events Accessibility Last update: January 28, 2004 \",\"The Committee continues to believe that an accommodative stance of monetary policy, coupled with robust underlying growth in productivity, is providing important ongoing support to economic activity.  The evidence accumulated over the intermeeting period confirms that output is expanding briskly.  Although new hiring remains subdued, other indicators suggest an improvement in the labor market.  Increases in core consumer prices are muted and expected to remain low.The Committee perceives that the upside and downside risks to the attainment of sustainable growth for the next few quarters are roughly equal.  The probability of an unwelcome fall in inflation has diminished in recent months and now appears almost equal to that of a rise in inflation.   With inflation quite low and resource use slack, the Committee believes that it can be patient in removing its policy accommodation.Voting for the FOMC monetary policy action were: Alan Greenspan, Chairman; Timothy F. Geithner, Vice Chairman; Ben S. Bernanke; Susan S. Bies; Roger W. Ferguson, Jr.; Edward M. Gramlich; Thomas M. Hoenig; Donald L. Kohn; Cathy E. Minehan; Mark W. Olson; Sandra Pianalto; and William Poole.      2004 Monetary policy Home | News and events Accessibility Last update: January 28, 2004 \",\"The Committee perceives that the upside and downside risks to the attainment of sustainable growth for the next few quarters are roughly equal.  The probability of an unwelcome fall in inflation has diminished in recent months and now appears almost equal to that of a rise in inflation.   With inflation quite low and resource use slack, the Committee believes that it can be patient in removing its policy accommodation.Voting for the FOMC monetary policy action were: Alan Greenspan, Chairman; Timothy F. Geithner, Vice Chairman; Ben S. Bernanke; Susan S. Bies; Roger W. Ferguson, Jr.; Edward M. Gramlich; Thomas M. Hoenig; Donald L. Kohn; Cathy E. Minehan; Mark W. Olson; Sandra Pianalto; and William Poole.      2004 Monetary policy Home | News and events Accessibility Last update: January 28, 2004 \",\"Voting for the FOMC monetary policy action were: Alan Greenspan, Chairman; Timothy F. Geithner, Vice Chairman; Ben S. Bernanke; Susan S. Bies; Roger W. Ferguson, Jr.; Edward M. Gramlich; Thomas M. Hoenig; Donald L. Kohn; Cathy E. Minehan; Mark W. Olson; Sandra Pianalto; and William Poole.      2004 Monetary policy Home | News and events Accessibility Last update: January 28, 2004 \",\"2004 Monetary policy Home | News and events Accessibility Last update: January 28, 2004 \",\"20040128\"\\n\\n'"
      ]
     },
     "execution_count": 4,
     "metadata": {},
     "output_type": "execute_result"
    }
   ],
   "source": [
    "s"
   ]
  },
  {
   "cell_type": "code",
   "execution_count": 5,
   "metadata": {},
   "outputs": [],
   "source": [
    "blob=TextBlob(s)"
   ]
  },
  {
   "cell_type": "code",
   "execution_count": 4,
   "metadata": {},
   "outputs": [],
   "source": [
    "text = '''\n",
    "Information received since the Federal Open Market Committee met in December indicates that the labor market has continued to strengthen and that economic activity has been rising at a solid rate.  \n",
    "Job gains have been strong, on average, in recent months, and the unemployment rate has remained low.  Household spending has continued to grow strongly, while growth of business fixed investment has moderated from its rapid pace earlier last year.  \n",
    "On a 12-month basis, both overall inflation and inflation for items other than food and energy remain near 2 percent.  Although market-based measures of inflation compensation have moved lower in recent months, survey-based measures of longer-term inflation expectations are little changed.\n",
    "Consistent with its statutory mandate, the Committee seeks to foster maximum employment and price stability.  In support of these goals, the Committee decided to maintain the target range for the federal funds rate at 2-1/4 to 2-1/2 percent.  \n",
    "The Committee continues to view sustained expansion of economic activity, strong labor market conditions, and inflation near the Committee’s symmetric 2 percent objective as the most likely outcomes.  In light of global economic and financial developments and muted inflation pressures, \n",
    "the Committee will be patient as it determines what future adjustments to the target range for the federal funds rate may be appropriate to support these outcomes.  \n",
    "In determining the timing and size of future adjustments to the target range for the federal funds rate, the Committee will assess realized and expected economic conditions relative to its maximum employment objective and its symmetric 2 percent inflation objective.  This assessment will take into account a wide range of information, including measures of labor market conditions, indicators of inflation pressures and inflation \n",
    "expectations, and readings on financial and international developments.\n",
    "'''\n",
    "\n",
    "blob = TextBlob(text)"
   ]
  },
  {
   "cell_type": "code",
   "execution_count": 5,
   "metadata": {},
   "outputs": [
    {
     "data": {
      "text/plain": [
       "[('Information', 'NN'),\n",
       " ('received', 'VBD'),\n",
       " ('since', 'IN'),\n",
       " ('the', 'DT'),\n",
       " ('Federal', 'NNP'),\n",
       " ('Open', 'NNP'),\n",
       " ('Market', 'NNP'),\n",
       " ('Committee', 'NNP'),\n",
       " ('met', 'VBD'),\n",
       " ('in', 'IN'),\n",
       " ('December', 'NNP'),\n",
       " ('indicates', 'VBZ'),\n",
       " ('that', 'IN'),\n",
       " ('the', 'DT'),\n",
       " ('labor', 'NN'),\n",
       " ('market', 'NN'),\n",
       " ('has', 'VBZ'),\n",
       " ('continued', 'VBN'),\n",
       " ('to', 'TO'),\n",
       " ('strengthen', 'VB'),\n",
       " ('and', 'CC'),\n",
       " ('that', 'DT'),\n",
       " ('economic', 'JJ'),\n",
       " ('activity', 'NN'),\n",
       " ('has', 'VBZ'),\n",
       " ('been', 'VBN'),\n",
       " ('rising', 'VBG'),\n",
       " ('at', 'IN'),\n",
       " ('a', 'DT'),\n",
       " ('solid', 'JJ'),\n",
       " ('rate', 'NN'),\n",
       " ('Job', 'NNP'),\n",
       " ('gains', 'NNS'),\n",
       " ('have', 'VBP'),\n",
       " ('been', 'VBN'),\n",
       " ('strong', 'JJ'),\n",
       " ('on', 'IN'),\n",
       " ('average', 'NN'),\n",
       " ('in', 'IN'),\n",
       " ('recent', 'JJ'),\n",
       " ('months', 'NNS'),\n",
       " ('and', 'CC'),\n",
       " ('the', 'DT'),\n",
       " ('unemployment', 'NN'),\n",
       " ('rate', 'NN'),\n",
       " ('has', 'VBZ'),\n",
       " ('remained', 'VBN'),\n",
       " ('low', 'JJ'),\n",
       " ('Household', 'NN'),\n",
       " ('spending', 'NN'),\n",
       " ('has', 'VBZ'),\n",
       " ('continued', 'VBN'),\n",
       " ('to', 'TO'),\n",
       " ('grow', 'VB'),\n",
       " ('strongly', 'RB'),\n",
       " ('while', 'IN'),\n",
       " ('growth', 'NN'),\n",
       " ('of', 'IN'),\n",
       " ('business', 'NN'),\n",
       " ('fixed', 'VBN'),\n",
       " ('investment', 'NN'),\n",
       " ('has', 'VBZ'),\n",
       " ('moderated', 'VBN'),\n",
       " ('from', 'IN'),\n",
       " ('its', 'PRP$'),\n",
       " ('rapid', 'JJ'),\n",
       " ('pace', 'NN'),\n",
       " ('earlier', 'RBR'),\n",
       " ('last', 'JJ'),\n",
       " ('year', 'NN'),\n",
       " ('On', 'IN'),\n",
       " ('a', 'DT'),\n",
       " ('12-month', 'JJ'),\n",
       " ('basis', 'NN'),\n",
       " ('both', 'DT'),\n",
       " ('overall', 'JJ'),\n",
       " ('inflation', 'NN'),\n",
       " ('and', 'CC'),\n",
       " ('inflation', 'NN'),\n",
       " ('for', 'IN'),\n",
       " ('items', 'NNS'),\n",
       " ('other', 'JJ'),\n",
       " ('than', 'IN'),\n",
       " ('food', 'NN'),\n",
       " ('and', 'CC'),\n",
       " ('energy', 'NN'),\n",
       " ('remain', 'VBP'),\n",
       " ('near', 'IN'),\n",
       " ('2', 'CD'),\n",
       " ('percent', 'NN'),\n",
       " ('Although', 'IN'),\n",
       " ('market-based', 'JJ'),\n",
       " ('measures', 'NNS'),\n",
       " ('of', 'IN'),\n",
       " ('inflation', 'NN'),\n",
       " ('compensation', 'NN'),\n",
       " ('have', 'VBP'),\n",
       " ('moved', 'VBN'),\n",
       " ('lower', 'RBR'),\n",
       " ('in', 'IN'),\n",
       " ('recent', 'JJ'),\n",
       " ('months', 'NNS'),\n",
       " ('survey-based', 'JJ'),\n",
       " ('measures', 'NNS'),\n",
       " ('of', 'IN'),\n",
       " ('longer-term', 'JJ'),\n",
       " ('inflation', 'NN'),\n",
       " ('expectations', 'NNS'),\n",
       " ('are', 'VBP'),\n",
       " ('little', 'JJ'),\n",
       " ('changed', 'JJ'),\n",
       " ('Consistent', 'JJ'),\n",
       " ('with', 'IN'),\n",
       " ('its', 'PRP$'),\n",
       " ('statutory', 'JJ'),\n",
       " ('mandate', 'NN'),\n",
       " ('the', 'DT'),\n",
       " ('Committee', 'NNP'),\n",
       " ('seeks', 'VBZ'),\n",
       " ('to', 'TO'),\n",
       " ('foster', 'VB'),\n",
       " ('maximum', 'JJ'),\n",
       " ('employment', 'NN'),\n",
       " ('and', 'CC'),\n",
       " ('price', 'NN'),\n",
       " ('stability', 'NN'),\n",
       " ('In', 'IN'),\n",
       " ('support', 'NN'),\n",
       " ('of', 'IN'),\n",
       " ('these', 'DT'),\n",
       " ('goals', 'NNS'),\n",
       " ('the', 'DT'),\n",
       " ('Committee', 'NNP'),\n",
       " ('decided', 'VBD'),\n",
       " ('to', 'TO'),\n",
       " ('maintain', 'VB'),\n",
       " ('the', 'DT'),\n",
       " ('target', 'NN'),\n",
       " ('range', 'NN'),\n",
       " ('for', 'IN'),\n",
       " ('the', 'DT'),\n",
       " ('federal', 'JJ'),\n",
       " ('funds', 'NNS'),\n",
       " ('rate', 'NN'),\n",
       " ('at', 'IN'),\n",
       " ('2-1/4', 'JJ'),\n",
       " ('to', 'TO'),\n",
       " ('2-1/2', 'JJ'),\n",
       " ('percent', 'NN'),\n",
       " ('The', 'DT'),\n",
       " ('Committee', 'NNP'),\n",
       " ('continues', 'VBZ'),\n",
       " ('to', 'TO'),\n",
       " ('view', 'VB'),\n",
       " ('sustained', 'JJ'),\n",
       " ('expansion', 'NN'),\n",
       " ('of', 'IN'),\n",
       " ('economic', 'JJ'),\n",
       " ('activity', 'NN'),\n",
       " ('strong', 'JJ'),\n",
       " ('labor', 'NN'),\n",
       " ('market', 'NN'),\n",
       " ('conditions', 'NNS'),\n",
       " ('and', 'CC'),\n",
       " ('inflation', 'NN'),\n",
       " ('near', 'IN'),\n",
       " ('the', 'DT'),\n",
       " ('Committee', 'NNP'),\n",
       " ('’', 'NNP'),\n",
       " ('s', 'VBD'),\n",
       " ('symmetric', 'JJ'),\n",
       " ('2', 'CD'),\n",
       " ('percent', 'NN'),\n",
       " ('objective', 'NN'),\n",
       " ('as', 'IN'),\n",
       " ('the', 'DT'),\n",
       " ('most', 'RBS'),\n",
       " ('likely', 'JJ'),\n",
       " ('outcomes', 'NNS'),\n",
       " ('In', 'IN'),\n",
       " ('light', 'NN'),\n",
       " ('of', 'IN'),\n",
       " ('global', 'JJ'),\n",
       " ('economic', 'JJ'),\n",
       " ('and', 'CC'),\n",
       " ('financial', 'JJ'),\n",
       " ('developments', 'NNS'),\n",
       " ('and', 'CC'),\n",
       " ('muted', 'VBN'),\n",
       " ('inflation', 'NN'),\n",
       " ('pressures', 'NNS'),\n",
       " ('the', 'DT'),\n",
       " ('Committee', 'NNP'),\n",
       " ('will', 'MD'),\n",
       " ('be', 'VB'),\n",
       " ('patient', 'JJ'),\n",
       " ('as', 'IN'),\n",
       " ('it', 'PRP'),\n",
       " ('determines', 'VBZ'),\n",
       " ('what', 'WP'),\n",
       " ('future', 'JJ'),\n",
       " ('adjustments', 'NNS'),\n",
       " ('to', 'TO'),\n",
       " ('the', 'DT'),\n",
       " ('target', 'NN'),\n",
       " ('range', 'NN'),\n",
       " ('for', 'IN'),\n",
       " ('the', 'DT'),\n",
       " ('federal', 'JJ'),\n",
       " ('funds', 'NNS'),\n",
       " ('rate', 'NN'),\n",
       " ('may', 'MD'),\n",
       " ('be', 'VB'),\n",
       " ('appropriate', 'JJ'),\n",
       " ('to', 'TO'),\n",
       " ('support', 'VB'),\n",
       " ('these', 'DT'),\n",
       " ('outcomes', 'NNS'),\n",
       " ('In', 'IN'),\n",
       " ('determining', 'VBG'),\n",
       " ('the', 'DT'),\n",
       " ('timing', 'NN'),\n",
       " ('and', 'CC'),\n",
       " ('size', 'NN'),\n",
       " ('of', 'IN'),\n",
       " ('future', 'JJ'),\n",
       " ('adjustments', 'NNS'),\n",
       " ('to', 'TO'),\n",
       " ('the', 'DT'),\n",
       " ('target', 'NN'),\n",
       " ('range', 'NN'),\n",
       " ('for', 'IN'),\n",
       " ('the', 'DT'),\n",
       " ('federal', 'JJ'),\n",
       " ('funds', 'NNS'),\n",
       " ('rate', 'NN'),\n",
       " ('the', 'DT'),\n",
       " ('Committee', 'NNP'),\n",
       " ('will', 'MD'),\n",
       " ('assess', 'VB'),\n",
       " ('realized', 'VBN'),\n",
       " ('and', 'CC'),\n",
       " ('expected', 'VBN'),\n",
       " ('economic', 'JJ'),\n",
       " ('conditions', 'NNS'),\n",
       " ('relative', 'VBP'),\n",
       " ('to', 'TO'),\n",
       " ('its', 'PRP$'),\n",
       " ('maximum', 'JJ'),\n",
       " ('employment', 'NN'),\n",
       " ('objective', 'NN'),\n",
       " ('and', 'CC'),\n",
       " ('its', 'PRP$'),\n",
       " ('symmetric', 'JJ'),\n",
       " ('2', 'CD'),\n",
       " ('percent', 'NN'),\n",
       " ('inflation', 'NN'),\n",
       " ('objective', 'NN'),\n",
       " ('This', 'DT'),\n",
       " ('assessment', 'NN'),\n",
       " ('will', 'MD'),\n",
       " ('take', 'VB'),\n",
       " ('into', 'IN'),\n",
       " ('account', 'NN'),\n",
       " ('a', 'DT'),\n",
       " ('wide', 'JJ'),\n",
       " ('range', 'NN'),\n",
       " ('of', 'IN'),\n",
       " ('information', 'NN'),\n",
       " ('including', 'VBG'),\n",
       " ('measures', 'NNS'),\n",
       " ('of', 'IN'),\n",
       " ('labor', 'NN'),\n",
       " ('market', 'NN'),\n",
       " ('conditions', 'NNS'),\n",
       " ('indicators', 'NNS'),\n",
       " ('of', 'IN'),\n",
       " ('inflation', 'NN'),\n",
       " ('pressures', 'NNS'),\n",
       " ('and', 'CC'),\n",
       " ('inflation', 'NN'),\n",
       " ('expectations', 'NNS'),\n",
       " ('and', 'CC'),\n",
       " ('readings', 'NNS'),\n",
       " ('on', 'IN'),\n",
       " ('financial', 'JJ'),\n",
       " ('and', 'CC'),\n",
       " ('international', 'JJ'),\n",
       " ('developments', 'NNS')]"
      ]
     },
     "execution_count": 5,
     "metadata": {},
     "output_type": "execute_result"
    }
   ],
   "source": [
    "blob.tags"
   ]
  },
  {
   "cell_type": "code",
   "execution_count": 6,
   "metadata": {},
   "outputs": [
    {
     "data": {
      "text/plain": [
       "WordList(['information', 'federal open', 'market', 'december', 'labor market', 'economic activity', 'solid rate', 'job', 'recent months', 'unemployment rate', 'household', 'rapid pace', '12-month basis', 'overall inflation', 'inflation compensation', 'recent months', 'longer-term inflation expectations', 'consistent', 'statutory mandate', 'foster maximum employment', 'price stability', 'target range', 'federal funds', 'economic activity', 'strong labor market conditions', 'committee ’ s symmetric', 'percent objective', 'likely outcomes', 'financial developments', 'inflation pressures', 'future adjustments', 'target range', 'federal funds', 'future adjustments', 'target range', 'federal funds', 'economic conditions', 'maximum employment objective', 'percent inflation objective', 'wide range', 'labor market conditions', 'inflation pressures', 'inflation expectations', 'international developments'])"
      ]
     },
     "execution_count": 6,
     "metadata": {},
     "output_type": "execute_result"
    }
   ],
   "source": [
    "blob.noun_phrases"
   ]
  },
  {
   "cell_type": "code",
   "execution_count": 15,
   "metadata": {},
   "outputs": [
    {
     "name": "stdout",
     "output_type": "stream",
     "text": [
      "\n",
      "Information received since the Federal Open Market Committee met in December indicates that the labor market has continued to strengthen and that economic activity has been rising at a solid rate. 0.06666666666666667 \n",
      "\n",
      "Job gains have been strong, on average, in recent months, and the unemployment rate has remained low. 0.07083333333333333 \n",
      "\n",
      "Household spending has continued to grow strongly, while growth of business fixed investment has moderated from its rapid pace earlier last year. 0.13333333333333333 \n",
      "\n",
      "On a 12-month basis, both overall inflation and inflation for items other than food and energy remain near 2 percent. -0.008333333333333331 \n",
      "\n",
      "Although market-based measures of inflation compensation have moved lower in recent months, survey-based measures of longer-term inflation expectations are little changed. -0.09375 \n",
      "\n",
      "Consistent with its statutory mandate, the Committee seeks to foster maximum employment and price stability. 0.25 \n",
      "\n",
      "In support of these goals, the Committee decided to maintain the target range for the federal funds rate at 2-1/4 to 2-1/2 percent. 0.0 \n",
      "\n",
      "The Committee continues to view sustained expansion of economic activity, strong labor market conditions, and inflation near the Committee’s symmetric 2 percent objective as the most likely outcomes. 0.20555555555555557 \n",
      "\n",
      "In light of global economic and financial developments and muted inflation pressures, \n",
      "the Committee will be patient as it determines what future adjustments to the target range for the federal funds rate may be appropriate to support these outcomes. 0.18333333333333335 \n",
      "\n",
      "In determining the timing and size of future adjustments to the target range for the federal funds rate, the Committee will assess realized and expected economic conditions relative to its maximum employment objective and its symmetric 2 percent inflation objective. 0.016666666666666666 \n",
      "\n",
      "This assessment will take into account a wide range of information, including measures of labor market conditions, indicators of inflation pressures and inflation \n",
      "expectations, and readings on financial and international developments. -0.03333333333333333 \n",
      "\n"
     ]
    }
   ],
   "source": [
    "for sentence in blob.sentences:\n",
    "    print(sentence,sentence.sentiment.polarity,'\\n')\n"
   ]
  },
  {
   "cell_type": "code",
   "execution_count": 16,
   "metadata": {},
   "outputs": [
    {
     "name": "stdout",
     "output_type": "stream",
     "text": [
      "\n",
      "Information received since the Federal Open Market Committee met in December indicates that the labor market has continued to strengthen and that economic activity has been rising at a solid rate. 0.26666666666666666 \n",
      "\n",
      "Job gains have been strong, on average, in recent months, and the unemployment rate has remained low. 0.42083333333333334 \n",
      "\n",
      "Household spending has continued to grow strongly, while growth of business fixed investment has moderated from its rapid pace earlier last year. 0.375 \n",
      "\n",
      "On a 12-month basis, both overall inflation and inflation for items other than food and energy remain near 2 percent. 0.25833333333333336 \n",
      "\n",
      "Although market-based measures of inflation compensation have moved lower in recent months, survey-based measures of longer-term inflation expectations are little changed. 0.375 \n",
      "\n",
      "Consistent with its statutory mandate, the Committee seeks to foster maximum employment and price stability. 0.25 \n",
      "\n",
      "In support of these goals, the Committee decided to maintain the target range for the federal funds rate at 2-1/4 to 2-1/2 percent. 0.0 \n",
      "\n",
      "The Committee continues to view sustained expansion of economic activity, strong labor market conditions, and inflation near the Committee’s symmetric 2 percent objective as the most likely outcomes. 0.48888888888888893 \n",
      "\n",
      "In light of global economic and financial developments and muted inflation pressures, \n",
      "the Committee will be patient as it determines what future adjustments to the target range for the federal funds rate may be appropriate to support these outcomes. 0.25416666666666665 \n",
      "\n",
      "In determining the timing and size of future adjustments to the target range for the federal funds rate, the Committee will assess realized and expected economic conditions relative to its maximum employment objective and its symmetric 2 percent inflation objective. 0.15416666666666667 \n",
      "\n",
      "This assessment will take into account a wide range of information, including measures of labor market conditions, indicators of inflation pressures and inflation \n",
      "expectations, and readings on financial and international developments. 0.13333333333333333 \n",
      "\n"
     ]
    }
   ],
   "source": [
    "for sentence in blob.sentences:\n",
    "    print(sentence,sentence.sentiment.subjectivity,'\\n')"
   ]
  },
  {
   "cell_type": "code",
   "execution_count": 9,
   "metadata": {},
   "outputs": [
    {
     "data": {
      "text/plain": [
       "Sentiment(polarity=0.08914473684210526, subjectivity=0.3037280701754385)"
      ]
     },
     "execution_count": 9,
     "metadata": {},
     "output_type": "execute_result"
    }
   ],
   "source": [
    "blob.sentiment"
   ]
  },
  {
   "cell_type": "code",
   "execution_count": 10,
   "metadata": {},
   "outputs": [
    {
     "data": {
      "text/plain": [
       "0.08914473684210526"
      ]
     },
     "execution_count": 10,
     "metadata": {},
     "output_type": "execute_result"
    }
   ],
   "source": [
    "blob.sentiment.polarity"
   ]
  },
  {
   "cell_type": "code",
   "execution_count": 25,
   "metadata": {},
   "outputs": [],
   "source": [
    "blob.classifier"
   ]
  },
  {
   "cell_type": "code",
   "execution_count": 26,
   "metadata": {},
   "outputs": [
    {
     "data": {
      "text/plain": [
       "TextBlob(\"\n",
       "Information received since the Federal Open Market Committee met in December indicates that the labor market has continued to strengthen and that economic activity has been rising at a solid rate.  \n",
       "Job gains have been strong, on average, in recent months, and the unemployment rate has remained low.  Household spending has continued to grow strongly, while growth of business fixed investment has moderated from its rapid pace earlier last year.  \n",
       "On a 12-month basis, both overall inflation and inflation for items other than food and energy remain near 2 percent.  Although market-based measures of inflation compensation have moved lower in recent months, survey-based measures of longer-term inflation expectations are little changed.\n",
       "Consistent with its statutory mandate, the Committee seeks to foster maximum employment and price stability.  In support of these goals, the Committee decided to maintain the target range for the federal funds rate at 2-1/4 to 2-1/2 percent.  \n",
       "The Committee continues to view sustained expansion of economic activity, strong labor market conditions, and inflation near the Committee’s symmetric 2 percent objective as the most likely outcomes.  In light of global economic and financial developments and muted inflation pressures, \n",
       "the Committee will be patient as it determines what future adjustments to the target range for the federal funds rate may be appropriate to support these outcomes.  \n",
       "In determining the timing and size of future adjustments to the target range for the federal funds rate, the Committee will assess realized and expected economic conditions relative to its maximum employment objective and its symmetric 2 percent inflation objective.  This assessment will take into account a wide range of information, including measures of labor market conditions, indicators of inflation pressures and inflation \n",
       "expectations, and readings on financial and international developments.\n",
       "\")"
      ]
     },
     "execution_count": 26,
     "metadata": {},
     "output_type": "execute_result"
    }
   ],
   "source": []
  },
  {
   "cell_type": "code",
   "execution_count": null,
   "metadata": {},
   "outputs": [],
   "source": []
  }
 ],
 "metadata": {
  "kernelspec": {
   "display_name": "Python 3",
   "language": "python",
   "name": "python3"
  },
  "language_info": {
   "codemirror_mode": {
    "name": "ipython",
    "version": 3
   },
   "file_extension": ".py",
   "mimetype": "text/x-python",
   "name": "python",
   "nbconvert_exporter": "python",
   "pygments_lexer": "ipython3",
   "version": "3.7.2"
  }
 },
 "nbformat": 4,
 "nbformat_minor": 2
}
