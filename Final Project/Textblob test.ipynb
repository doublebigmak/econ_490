{
 "cells": [
  {
   "cell_type": "code",
   "execution_count": 1,
   "metadata": {},
   "outputs": [],
   "source": [
    "from textblob import TextBlob\n",
    "import csv\n",
    "import pandas as pd\n"
   ]
  },
  {
   "cell_type": "code",
   "execution_count": 14,
   "metadata": {},
   "outputs": [],
   "source": [
    "with open('.\\scraped_data\\\\20080122.csv') as f:\n",
    "    s = f.read()"
   ]
  },
  {
   "cell_type": "code",
   "execution_count": 15,
   "metadata": {
    "scrolled": true
   },
   "outputs": [
    {
     "data": {
      "text/plain": [
       "'\"The Federal Open Market Committee has decided to lower its target for the federal funds rate 75 basis points to 3-1/2 percent.\",\"The Committee took this action in view of a weakening of the economic outlook and increasing downside risks to growth. While strains in short-term funding markets have eased somewhat, broader financial market conditions have continued to deteriorate and credit has tightened further for some businesses and households. Moreover, incoming information indicates a deepening of the housing contraction as well as some softening in labor markets.\",\"The Committee expects inflation to moderate in coming quarters, but it will be necessary to continue to monitor inflation developments carefully.\",\"Appreciable downside risks to growth remain. The Committee will continue to assess the effects of financial and other developments on economic prospects and will act in a timely manner as needed to address those risks. \",\"Voting for the FOMC monetary policy action were: Ben S. Bernanke, Chairman; Timothy F. Geithner, Vice Chairman; Charles L. Evans; Thomas M. Hoenig; Donald L. Kohn; Randall S. Kroszner; Eric S. Rosengren; and Kevin M. Warsh. Voting against was William Poole, who did not believe that current conditions justified policy action before the regularly scheduled meeting next week. Absent and not voting was Frederic S. Mishkin.\",\"In a related action, the Board of Governors approved a 75-basis-point decrease in the discount rate to 4 percent. In taking this action, the Board approved the requests submitted by the Boards of Directors of the Federal Reserve Banks of Chicago and Minneapolis.\",\"20080122\"\\n\\n'"
      ]
     },
     "execution_count": 15,
     "metadata": {},
     "output_type": "execute_result"
    }
   ],
   "source": [
    "s"
   ]
  },
  {
   "cell_type": "code",
   "execution_count": 16,
   "metadata": {},
   "outputs": [],
   "source": [
    "blob=TextBlob(s)"
   ]
  },
  {
   "cell_type": "code",
   "execution_count": 7,
   "metadata": {},
   "outputs": [],
   "source": [
    "text = '''\n",
    "Information received since the Federal Open Market Committee met in December indicates that the labor market has continued to strengthen and that economic activity has been rising at a solid rate.  \n",
    "Job gains have been strong, on average, in recent months, and the unemployment rate has remained low.  Household spending has continued to grow strongly, while growth of business fixed investment has moderated from its rapid pace earlier last year.  \n",
    "On a 12-month basis, both overall inflation and inflation for items other than food and energy remain near 2 percent.  Although market-based measures of inflation compensation have moved lower in recent months, survey-based measures of longer-term inflation expectations are little changed.\n",
    "Consistent with its statutory mandate, the Committee seeks to foster maximum employment and price stability.  In support of these goals, the Committee decided to maintain the target range for the federal funds rate at 2-1/4 to 2-1/2 percent.  \n",
    "The Committee continues to view sustained expansion of economic activity, strong labor market conditions, and inflation near the Committee’s symmetric 2 percent objective as the most likely outcomes.  In light of global economic and financial developments and muted inflation pressures, \n",
    "the Committee will be patient as it determines what future adjustments to the target range for the federal funds rate may be appropriate to support these outcomes.  \n",
    "In determining the timing and size of future adjustments to the target range for the federal funds rate, the Committee will assess realized and expected economic conditions relative to its maximum employment objective and its symmetric 2 percent inflation objective.  This assessment will take into account a wide range of information, including measures of labor market conditions, indicators of inflation pressures and inflation \n",
    "expectations, and readings on financial and international developments.\n",
    "'''\n",
    "\n",
    "blob = TextBlob(text)"
   ]
  },
  {
   "cell_type": "code",
   "execution_count": 17,
   "metadata": {},
   "outputs": [
    {
     "data": {
      "text/plain": [
       "[('The', 'DT'),\n",
       " ('Federal', 'NNP'),\n",
       " ('Open', 'NNP'),\n",
       " ('Market', 'NNP'),\n",
       " ('Committee', 'NNP'),\n",
       " ('has', 'VBZ'),\n",
       " ('decided', 'VBN'),\n",
       " ('to', 'TO'),\n",
       " ('lower', 'VB'),\n",
       " ('its', 'PRP$'),\n",
       " ('target', 'NN'),\n",
       " ('for', 'IN'),\n",
       " ('the', 'DT'),\n",
       " ('federal', 'JJ'),\n",
       " ('funds', 'NNS'),\n",
       " ('rate', 'NN'),\n",
       " ('75', 'CD'),\n",
       " ('basis', 'NN'),\n",
       " ('points', 'NNS'),\n",
       " ('to', 'TO'),\n",
       " ('3-1/2', 'JJ'),\n",
       " ('percent', 'NN'),\n",
       " ('The', 'DT'),\n",
       " ('Committee', 'NNP'),\n",
       " ('took', 'VBD'),\n",
       " ('this', 'DT'),\n",
       " ('action', 'NN'),\n",
       " ('in', 'IN'),\n",
       " ('view', 'NN'),\n",
       " ('of', 'IN'),\n",
       " ('a', 'DT'),\n",
       " ('weakening', 'NN'),\n",
       " ('of', 'IN'),\n",
       " ('the', 'DT'),\n",
       " ('economic', 'JJ'),\n",
       " ('outlook', 'NN'),\n",
       " ('and', 'CC'),\n",
       " ('increasing', 'VBG'),\n",
       " ('downside', 'NN'),\n",
       " ('risks', 'NNS'),\n",
       " ('to', 'TO'),\n",
       " ('growth', 'NN'),\n",
       " ('While', 'IN'),\n",
       " ('strains', 'NNS'),\n",
       " ('in', 'IN'),\n",
       " ('short-term', 'JJ'),\n",
       " ('funding', 'NN'),\n",
       " ('markets', 'NNS'),\n",
       " ('have', 'VBP'),\n",
       " ('eased', 'VBN'),\n",
       " ('somewhat', 'RB'),\n",
       " ('broader', 'JJR'),\n",
       " ('financial', 'JJ'),\n",
       " ('market', 'NN'),\n",
       " ('conditions', 'NNS'),\n",
       " ('have', 'VBP'),\n",
       " ('continued', 'VBN'),\n",
       " ('to', 'TO'),\n",
       " ('deteriorate', 'VB'),\n",
       " ('and', 'CC'),\n",
       " ('credit', 'NN'),\n",
       " ('has', 'VBZ'),\n",
       " ('tightened', 'VBN'),\n",
       " ('further', 'RBR'),\n",
       " ('for', 'IN'),\n",
       " ('some', 'DT'),\n",
       " ('businesses', 'NNS'),\n",
       " ('and', 'CC'),\n",
       " ('households', 'NNS'),\n",
       " ('Moreover', 'RB'),\n",
       " ('incoming', 'VBG'),\n",
       " ('information', 'NN'),\n",
       " ('indicates', 'VBZ'),\n",
       " ('a', 'DT'),\n",
       " ('deepening', 'NN'),\n",
       " ('of', 'IN'),\n",
       " ('the', 'DT'),\n",
       " ('housing', 'NN'),\n",
       " ('contraction', 'NN'),\n",
       " ('as', 'RB'),\n",
       " ('well', 'RB'),\n",
       " ('as', 'IN'),\n",
       " ('some', 'DT'),\n",
       " ('softening', 'NN'),\n",
       " ('in', 'IN'),\n",
       " ('labor', 'NN'),\n",
       " ('markets', 'NNS'),\n",
       " ('The', 'DT'),\n",
       " ('Committee', 'NNP'),\n",
       " ('expects', 'VBZ'),\n",
       " ('inflation', 'NN'),\n",
       " ('to', 'TO'),\n",
       " ('moderate', 'VB'),\n",
       " ('in', 'IN'),\n",
       " ('coming', 'VBG'),\n",
       " ('quarters', 'NNS'),\n",
       " ('but', 'CC'),\n",
       " ('it', 'PRP'),\n",
       " ('will', 'MD'),\n",
       " ('be', 'VB'),\n",
       " ('necessary', 'JJ'),\n",
       " ('to', 'TO'),\n",
       " ('continue', 'VB'),\n",
       " ('to', 'TO'),\n",
       " ('monitor', 'VB'),\n",
       " ('inflation', 'NN'),\n",
       " ('developments', 'NNS'),\n",
       " ('carefully', 'RB'),\n",
       " ('Appreciable', 'JJ'),\n",
       " ('downside', 'NN'),\n",
       " ('risks', 'NNS'),\n",
       " ('to', 'TO'),\n",
       " ('growth', 'NN'),\n",
       " ('remain', 'NN'),\n",
       " ('The', 'DT'),\n",
       " ('Committee', 'NNP'),\n",
       " ('will', 'MD'),\n",
       " ('continue', 'VB'),\n",
       " ('to', 'TO'),\n",
       " ('assess', 'VB'),\n",
       " ('the', 'DT'),\n",
       " ('effects', 'NNS'),\n",
       " ('of', 'IN'),\n",
       " ('financial', 'JJ'),\n",
       " ('and', 'CC'),\n",
       " ('other', 'JJ'),\n",
       " ('developments', 'NNS'),\n",
       " ('on', 'IN'),\n",
       " ('economic', 'JJ'),\n",
       " ('prospects', 'NNS'),\n",
       " ('and', 'CC'),\n",
       " ('will', 'MD'),\n",
       " ('act', 'VB'),\n",
       " ('in', 'IN'),\n",
       " ('a', 'DT'),\n",
       " ('timely', 'JJ'),\n",
       " ('manner', 'NN'),\n",
       " ('as', 'IN'),\n",
       " ('needed', 'VBN'),\n",
       " ('to', 'TO'),\n",
       " ('address', 'VB'),\n",
       " ('those', 'DT'),\n",
       " ('risks', 'NNS'),\n",
       " ('Voting', 'VBG'),\n",
       " ('for', 'IN'),\n",
       " ('the', 'DT'),\n",
       " ('FOMC', 'NNP'),\n",
       " ('monetary', 'JJ'),\n",
       " ('policy', 'NN'),\n",
       " ('action', 'NN'),\n",
       " ('were', 'VBD'),\n",
       " ('Ben', 'NNP'),\n",
       " ('S.', 'NNP'),\n",
       " ('Bernanke', 'NNP'),\n",
       " ('Chairman', 'NNP'),\n",
       " ('Timothy', 'NNP'),\n",
       " ('F.', 'NNP'),\n",
       " ('Geithner', 'NNP'),\n",
       " ('Vice', 'NNP'),\n",
       " ('Chairman', 'NNP'),\n",
       " ('Charles', 'NNP'),\n",
       " ('L.', 'NNP'),\n",
       " ('Evans', 'NNP'),\n",
       " ('Thomas', 'NNP'),\n",
       " ('M.', 'NNP'),\n",
       " ('Hoenig', 'NNP'),\n",
       " ('Donald', 'NNP'),\n",
       " ('L.', 'NNP'),\n",
       " ('Kohn', 'NNP'),\n",
       " ('Randall', 'NNP'),\n",
       " ('S.', 'NNP'),\n",
       " ('Kroszner', 'NNP'),\n",
       " ('Eric', 'NNP'),\n",
       " ('S.', 'NNP'),\n",
       " ('Rosengren', 'NNP'),\n",
       " ('and', 'CC'),\n",
       " ('Kevin', 'NNP'),\n",
       " ('M.', 'NNP'),\n",
       " ('Warsh', 'NNP'),\n",
       " ('Voting', 'VBG'),\n",
       " ('against', 'IN'),\n",
       " ('was', 'VBD'),\n",
       " ('William', 'NNP'),\n",
       " ('Poole', 'NNP'),\n",
       " ('who', 'WP'),\n",
       " ('did', 'VBD'),\n",
       " ('not', 'RB'),\n",
       " ('believe', 'VB'),\n",
       " ('that', 'IN'),\n",
       " ('current', 'JJ'),\n",
       " ('conditions', 'NNS'),\n",
       " ('justified', 'JJ'),\n",
       " ('policy', 'NN'),\n",
       " ('action', 'NN'),\n",
       " ('before', 'IN'),\n",
       " ('the', 'DT'),\n",
       " ('regularly', 'RB'),\n",
       " ('scheduled', 'VBN'),\n",
       " ('meeting', 'NN'),\n",
       " ('next', 'JJ'),\n",
       " ('week', 'NN'),\n",
       " ('Absent', 'NNP'),\n",
       " ('and', 'CC'),\n",
       " ('not', 'RB'),\n",
       " ('voting', 'NN'),\n",
       " ('was', 'VBD'),\n",
       " ('Frederic', 'NNP'),\n",
       " ('S', 'NNP'),\n",
       " ('Mishkin', 'NNP'),\n",
       " ('In', 'IN'),\n",
       " ('a', 'DT'),\n",
       " ('related', 'JJ'),\n",
       " ('action', 'NN'),\n",
       " ('the', 'DT'),\n",
       " ('Board', 'NNP'),\n",
       " ('of', 'IN'),\n",
       " ('Governors', 'NNP'),\n",
       " ('approved', 'VBD'),\n",
       " ('a', 'DT'),\n",
       " ('75-basis-point', 'JJ'),\n",
       " ('decrease', 'NN'),\n",
       " ('in', 'IN'),\n",
       " ('the', 'DT'),\n",
       " ('discount', 'NN'),\n",
       " ('rate', 'NN'),\n",
       " ('to', 'TO'),\n",
       " ('4', 'CD'),\n",
       " ('percent', 'NN'),\n",
       " ('In', 'IN'),\n",
       " ('taking', 'VBG'),\n",
       " ('this', 'DT'),\n",
       " ('action', 'NN'),\n",
       " ('the', 'DT'),\n",
       " ('Board', 'NNP'),\n",
       " ('approved', 'VBD'),\n",
       " ('the', 'DT'),\n",
       " ('requests', 'NNS'),\n",
       " ('submitted', 'VBN'),\n",
       " ('by', 'IN'),\n",
       " ('the', 'DT'),\n",
       " ('Boards', 'NNP'),\n",
       " ('of', 'IN'),\n",
       " ('Directors', 'NNP'),\n",
       " ('of', 'IN'),\n",
       " ('the', 'DT'),\n",
       " ('Federal', 'NNP'),\n",
       " ('Reserve', 'NNP'),\n",
       " ('Banks', 'NNP'),\n",
       " ('of', 'IN'),\n",
       " ('Chicago', 'NNP'),\n",
       " ('and', 'CC'),\n",
       " ('Minneapolis', 'NNP'),\n",
       " ('20080122', 'CD')]"
      ]
     },
     "execution_count": 17,
     "metadata": {},
     "output_type": "execute_result"
    }
   ],
   "source": [
    "blob.tags"
   ]
  },
  {
   "cell_type": "code",
   "execution_count": 13,
   "metadata": {},
   "outputs": [
    {
     "data": {
      "text/plain": [
       "WordList(['federal open', 'market', 'federal funds', 'percent.the committee', 'accommodative stance', 'monetary policy', 'economic activity', 'period confirms', 'labor market', 'increases', 'core consumer prices', 'low.the committee perceives', 'downside risks', 'sustainable growth', 'unwelcome fall', 'recent months', 'resource use slack', 'fomc', 'monetary policy action', 'alan greenspan', 'timothy f. geithner', 'vice chairman', 'ben s. bernanke', 'susan s. bies', 'roger w. ferguson', 'jr.', 'edward m. gramlich', 'thomas m. hoenig', 'donald l. kohn', 'cathy e. minehan', 'mark w. olson', 'sandra pianalto', 'william poole', 'monetary', 'policy home | news', 'accessibility', 'january', 'accommodative stance', 'monetary policy', 'economic activity', 'period confirms', 'labor market', 'increases', 'core consumer prices', 'low.the committee perceives', 'downside risks', 'sustainable growth', 'unwelcome fall', 'recent months', 'resource use slack', 'fomc', 'monetary policy action', 'alan greenspan', 'timothy f. geithner', 'vice chairman', 'ben s. bernanke', 'susan s. bies', 'roger w. ferguson', 'jr.', 'edward m. gramlich', 'thomas m. hoenig', 'donald l. kohn', 'cathy e. minehan', 'mark w. olson', 'sandra pianalto', 'william poole', 'monetary', 'policy home | news', 'accessibility', 'january', 'committee perceives', 'downside risks', 'sustainable growth', 'unwelcome fall', 'recent months', 'resource use slack', 'fomc', 'monetary policy action', 'alan greenspan', 'timothy f. geithner', 'vice chairman', 'ben s. bernanke', 'susan s. bies', 'roger w. ferguson', 'jr.', 'edward m. gramlich', 'thomas m. hoenig', 'donald l. kohn', 'cathy e. minehan', 'mark w. olson', 'sandra pianalto', 'william poole', 'monetary', 'policy home | news', 'accessibility', 'january', 'voting', 'fomc', 'monetary policy action', 'alan greenspan', 'timothy f. geithner', 'vice chairman', 'ben s. bernanke', 'susan s. bies', 'roger w. ferguson', 'jr.', 'edward m. gramlich', 'thomas m. hoenig', 'donald l. kohn', 'cathy e. minehan', 'mark w. olson', 'sandra pianalto', 'william poole', 'monetary', 'policy home | news', 'accessibility', 'january', 'monetary', 'policy home | news', 'accessibility', 'january'])"
      ]
     },
     "execution_count": 13,
     "metadata": {},
     "output_type": "execute_result"
    }
   ],
   "source": [
    "blob.noun_phrases"
   ]
  },
  {
   "cell_type": "code",
   "execution_count": 18,
   "metadata": {},
   "outputs": [
    {
     "name": "stdout",
     "output_type": "stream",
     "text": [
      "\"The Federal Open Market Committee has decided to lower its target for the federal funds rate 75 basis points to 3-1/2 percent. 0.0 \n",
      "\n",
      "\",\"The Committee took this action in view of a weakening of the economic outlook and increasing downside risks to growth. 0.15000000000000002 \n",
      "\n",
      "While strains in short-term funding markets have eased somewhat, broader financial market conditions have continued to deteriorate and credit has tightened further for some businesses and households. 0.0 \n",
      "\n",
      "Moreover, incoming information indicates a deepening of the housing contraction as well as some softening in labor markets. 0.0 \n",
      "\n",
      "\",\"The Committee expects inflation to moderate in coming quarters, but it will be necessary to continue to monitor inflation developments carefully. -0.03333333333333333 \n",
      "\n",
      "\",\"Appreciable downside risks to growth remain. 0.0 \n",
      "\n",
      "The Committee will continue to assess the effects of financial and other developments on economic prospects and will act in a timely manner as needed to address those risks. 0.025000000000000005 \n",
      "\n",
      "\",\"Voting for the FOMC monetary policy action were: Ben S. Bernanke, Chairman; Timothy F. Geithner, Vice Chairman; Charles L. Evans; Thomas M. Hoenig; Donald L. Kohn; Randall S. Kroszner; Eric S. Rosengren; and Kevin M. Warsh. 0.1 \n",
      "\n",
      "Voting against was William Poole, who did not believe that current conditions justified policy action before the regularly scheduled meeting next week. 0.1 \n",
      "\n",
      "Absent and not voting was Frederic S. 0.0 \n",
      "\n",
      "Mishkin. 0.0 \n",
      "\n",
      "\",\"In a related action, the Board of Governors approved a 75-basis-point decrease in the discount rate to 4 percent. 0.05 \n",
      "\n",
      "In taking this action, the Board approved the requests submitted by the Boards of Directors of the Federal Reserve Banks of Chicago and Minneapolis. 0.1 \n",
      "\n",
      "\",\"20080122\" 0.0 \n",
      "\n"
     ]
    }
   ],
   "source": [
    "for sentence in blob.sentences:\n",
    "    print(sentence,sentence.sentiment.polarity,'\\n')\n"
   ]
  },
  {
   "cell_type": "code",
   "execution_count": 16,
   "metadata": {},
   "outputs": [
    {
     "name": "stdout",
     "output_type": "stream",
     "text": [
      "\n",
      "Information received since the Federal Open Market Committee met in December indicates that the labor market has continued to strengthen and that economic activity has been rising at a solid rate. 0.26666666666666666 \n",
      "\n",
      "Job gains have been strong, on average, in recent months, and the unemployment rate has remained low. 0.42083333333333334 \n",
      "\n",
      "Household spending has continued to grow strongly, while growth of business fixed investment has moderated from its rapid pace earlier last year. 0.375 \n",
      "\n",
      "On a 12-month basis, both overall inflation and inflation for items other than food and energy remain near 2 percent. 0.25833333333333336 \n",
      "\n",
      "Although market-based measures of inflation compensation have moved lower in recent months, survey-based measures of longer-term inflation expectations are little changed. 0.375 \n",
      "\n",
      "Consistent with its statutory mandate, the Committee seeks to foster maximum employment and price stability. 0.25 \n",
      "\n",
      "In support of these goals, the Committee decided to maintain the target range for the federal funds rate at 2-1/4 to 2-1/2 percent. 0.0 \n",
      "\n",
      "The Committee continues to view sustained expansion of economic activity, strong labor market conditions, and inflation near the Committee’s symmetric 2 percent objective as the most likely outcomes. 0.48888888888888893 \n",
      "\n",
      "In light of global economic and financial developments and muted inflation pressures, \n",
      "the Committee will be patient as it determines what future adjustments to the target range for the federal funds rate may be appropriate to support these outcomes. 0.25416666666666665 \n",
      "\n",
      "In determining the timing and size of future adjustments to the target range for the federal funds rate, the Committee will assess realized and expected economic conditions relative to its maximum employment objective and its symmetric 2 percent inflation objective. 0.15416666666666667 \n",
      "\n",
      "This assessment will take into account a wide range of information, including measures of labor market conditions, indicators of inflation pressures and inflation \n",
      "expectations, and readings on financial and international developments. 0.13333333333333333 \n",
      "\n"
     ]
    }
   ],
   "source": [
    "for sentence in blob.sentences:\n",
    "    print(sentence,sentence.sentiment.subjectivity,'\\n')"
   ]
  },
  {
   "cell_type": "code",
   "execution_count": 19,
   "metadata": {},
   "outputs": [
    {
     "data": {
      "text/plain": [
       "Sentiment(polarity=0.05375, subjectivity=0.3375961538461538)"
      ]
     },
     "execution_count": 19,
     "metadata": {},
     "output_type": "execute_result"
    }
   ],
   "source": [
    "blob.sentiment"
   ]
  },
  {
   "cell_type": "code",
   "execution_count": 20,
   "metadata": {},
   "outputs": [
    {
     "data": {
      "text/plain": [
       "0.05375"
      ]
     },
     "execution_count": 20,
     "metadata": {},
     "output_type": "execute_result"
    }
   ],
   "source": [
    "blob.sentiment.polarity"
   ]
  },
  {
   "cell_type": "code",
   "execution_count": 21,
   "metadata": {},
   "outputs": [],
   "source": [
    "blob.classifier"
   ]
  },
  {
   "cell_type": "code",
   "execution_count": 26,
   "metadata": {},
   "outputs": [
    {
     "data": {
      "text/plain": [
       "TextBlob(\"\n",
       "Information received since the Federal Open Market Committee met in December indicates that the labor market has continued to strengthen and that economic activity has been rising at a solid rate.  \n",
       "Job gains have been strong, on average, in recent months, and the unemployment rate has remained low.  Household spending has continued to grow strongly, while growth of business fixed investment has moderated from its rapid pace earlier last year.  \n",
       "On a 12-month basis, both overall inflation and inflation for items other than food and energy remain near 2 percent.  Although market-based measures of inflation compensation have moved lower in recent months, survey-based measures of longer-term inflation expectations are little changed.\n",
       "Consistent with its statutory mandate, the Committee seeks to foster maximum employment and price stability.  In support of these goals, the Committee decided to maintain the target range for the federal funds rate at 2-1/4 to 2-1/2 percent.  \n",
       "The Committee continues to view sustained expansion of economic activity, strong labor market conditions, and inflation near the Committee’s symmetric 2 percent objective as the most likely outcomes.  In light of global economic and financial developments and muted inflation pressures, \n",
       "the Committee will be patient as it determines what future adjustments to the target range for the federal funds rate may be appropriate to support these outcomes.  \n",
       "In determining the timing and size of future adjustments to the target range for the federal funds rate, the Committee will assess realized and expected economic conditions relative to its maximum employment objective and its symmetric 2 percent inflation objective.  This assessment will take into account a wide range of information, including measures of labor market conditions, indicators of inflation pressures and inflation \n",
       "expectations, and readings on financial and international developments.\n",
       "\")"
      ]
     },
     "execution_count": 26,
     "metadata": {},
     "output_type": "execute_result"
    }
   ],
   "source": []
  },
  {
   "cell_type": "code",
   "execution_count": null,
   "metadata": {},
   "outputs": [],
   "source": []
  }
 ],
 "metadata": {
  "kernelspec": {
   "display_name": "Python 3",
   "language": "python",
   "name": "python3"
  },
  "language_info": {
   "codemirror_mode": {
    "name": "ipython",
    "version": 3
   },
   "file_extension": ".py",
   "mimetype": "text/x-python",
   "name": "python",
   "nbconvert_exporter": "python",
   "pygments_lexer": "ipython3",
   "version": "3.7.1"
  }
 },
 "nbformat": 4,
 "nbformat_minor": 2
}
