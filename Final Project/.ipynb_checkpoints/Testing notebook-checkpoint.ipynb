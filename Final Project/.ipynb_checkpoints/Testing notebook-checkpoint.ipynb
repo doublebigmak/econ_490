{
 "cells": [
  {
   "cell_type": "code",
   "execution_count": 56,
   "metadata": {},
   "outputs": [],
   "source": [
    "from bs4 import BeautifulSoup\n",
    "import requests\n",
    "import re\n",
    "import numpy as np\n",
    "import pandas as pd\n",
    "from datetime import datetime\n"
   ]
  },
  {
   "cell_type": "code",
   "execution_count": 57,
   "metadata": {},
   "outputs": [],
   "source": [
    "\n",
    "new_url = 'https://www.federalreserve.gov/monetarypolicy/fomccalendars.htm'\n",
    "\n",
    "year = str(2013) # placeholder year \n",
    "historical_url = 'https://www.federalreserve.gov/monetarypolicy/fomchistorical'+year+'.htm'\n",
    "\n",
    "response=requests.get(new_url, timeout=10)\n",
    "\n",
    "parsed_content = BeautifulSoup(response.content, \"html.parser\")\n",
    "\n",
    "article = parsed_content.find(attrs={'id':'article'})\n",
    "year_panels = article.find_all(attrs={'class':'panel panel-default'})\n",
    "panel_headings = article.find_all(attrs={'class':'panel-heading'})\n",
    "#print(article)\n",
    "#print(panel_headings)\n",
    "\n",
    "\n",
    "years=[]\n",
    "dates=[]\n",
    "for item in year_panels:\n",
    "    \n",
    "    years.append(item.find('a').string.split()[0])\n",
    "    year = item.find('a').string.split()[0]\n",
    "    months = item.find_all(class_='fomc-meeting__month')\n",
    "    days = item.find_all(class_='fomc-meeting__date')\n",
    "    \n",
    "    for i in range(len(months)):\n",
    "    \n",
    "        month = months[i].string.split('/')[-1:][0]\n",
    "        day =  day = re.sub('\\D',\"\", days[i].string.split('-')[-1:][0])\n",
    "\n",
    "        try:\n",
    "            date=datetime.strptime(year+month+day,'%Y%B%d')\n",
    "        except ValueError:\n",
    "            date=datetime.strptime(year+month+day,'%Y%b%d')\n",
    "        dates.append(date.strftime(\"%Y%m%d\"))\n",
    "    \n"
   ]
  },
  {
   "cell_type": "code",
   "execution_count": 58,
   "metadata": {},
   "outputs": [
    {
     "data": {
      "text/plain": [
       "['2019', '2018', '2017', '2016', '2015', '2014']"
      ]
     },
     "execution_count": 58,
     "metadata": {},
     "output_type": "execute_result"
    }
   ],
   "source": [
    "years"
   ]
  },
  {
   "cell_type": "code",
   "execution_count": 59,
   "metadata": {},
   "outputs": [
    {
     "data": {
      "text/plain": [
       "['20190130',\n",
       " '20190320',\n",
       " '20190501',\n",
       " '20190619',\n",
       " '20190731',\n",
       " '20190918',\n",
       " '20191030',\n",
       " '20191211',\n",
       " '20180131',\n",
       " '20180321',\n",
       " '20180502',\n",
       " '20180613',\n",
       " '20180801',\n",
       " '20180926',\n",
       " '20181108',\n",
       " '20181219',\n",
       " '20170201',\n",
       " '20170315',\n",
       " '20170503',\n",
       " '20170614',\n",
       " '20170726',\n",
       " '20170920',\n",
       " '20171101',\n",
       " '20171213',\n",
       " '20160127',\n",
       " '20160316',\n",
       " '20160427',\n",
       " '20160615',\n",
       " '20160727',\n",
       " '20160921',\n",
       " '20161102',\n",
       " '20161214',\n",
       " '20150128',\n",
       " '20150318',\n",
       " '20150429',\n",
       " '20150617',\n",
       " '20150729',\n",
       " '20150917',\n",
       " '20151028',\n",
       " '20151216',\n",
       " '20140129',\n",
       " '20140304',\n",
       " '20140319',\n",
       " '20140430',\n",
       " '20140618',\n",
       " '20140730',\n",
       " '20140917',\n",
       " '20141029',\n",
       " '20141217']"
      ]
     },
     "execution_count": 59,
     "metadata": {},
     "output_type": "execute_result"
    }
   ],
   "source": [
    "dates"
   ]
  },
  {
   "cell_type": "markdown",
   "metadata": {},
   "source": [
    "### TODO\n",
    "Capture unscheduled meeting dates\n",
    "\n",
    "Capture economic projection dates"
   ]
  },
  {
   "cell_type": "code",
   "execution_count": 37,
   "metadata": {},
   "outputs": [
    {
     "data": {
      "text/plain": [
       "<div class=\"panel panel-default\"><div class=\"panel-heading\"><h4><a id=\"7537\">2014 FOMC Meetings </a></h4></div>\n",
       "<div class=\"row fomc-meeting\">\n",
       "<div class=\"fomc-meeting__month col-xs-5 col-sm-3 col-md-2\"><strong>January</strong></div>\n",
       "<div class=\"fomc-meeting__date col-xs-4 col-sm-9 col-md-10 col-lg-1\">28-29</div>\n",
       "<div class=\"col-xs-12 col-md-4 col-lg-2\">\n",
       "<a href=\"/newsevents/pressreleases/monetary20140129a.htm\">Statement</a><br/>\n",
       "</div>\n",
       "<div class=\"col-xs-12 col-md-4 col-lg-3\">\n",
       "</div>\n",
       "<div class=\"col-xs-12 col-md-4 col-lg-4 fomc-meeting__minutes\">\n",
       "<strong>Minutes:</strong><br/>\n",
       "<a href=\"/monetarypolicy/files/fomcminutes20140129.pdf\">PDF</a> | <a href=\"/monetarypolicy/fomcminutes20140129.htm\">HTML</a>\n",
       "<br/> (Released February 19, 2014)\n",
       "                    \t\n",
       "                    \t\n",
       "                    \t</div>\n",
       "</div>\n",
       "<div class=\"fomc-meeting--shaded row fomc-meeting\" style=\"border-bottom: none;\">\n",
       "<div class=\"fomc-meeting__month col-xs-5 col-sm-3 col-md-2\"><strong>March </strong></div>\n",
       "<div class=\"fomc-meeting__date col-xs-4 col-sm-9 col-md-10 col-lg-2\">4 (unscheduled)</div>\n",
       "<div class=\"col-xs-12 col-md-4 col-lg-1\"></div>\n",
       "<div class=\"col-xs-12 col-md-4 col-lg-3\"></div>\n",
       "<div class=\"col-xs-12 col-md-4 col-lg-4 fomc-meeting__minutes\">\n",
       "<p>Minutes: <em>See end of minutes of March 18-19 meeting</em></p>\n",
       "</div>\n",
       "</div>\n",
       "<div class=\"fomc-meeting--shaded row fomc-meeting\">\n",
       "<div class=\"fomc-meeting--shaded fomc-meeting__month col-xs-5 col-sm-3 col-md-2\"><strong>March</strong></div>\n",
       "<div class=\"fomc-meeting__date col-xs-4 col-sm-9 col-md-10 col-lg-1\">18-19*</div>\n",
       "<div class=\"col-xs-12 col-md-4 col-lg-2\">\n",
       "<a href=\"/newsevents/pressreleases/monetary20140319a.htm\">Statement</a><br/>\n",
       "</div>\n",
       "<div class=\"col-xs-12 col-md-4 col-lg-3\">\n",
       "<a href=\"/monetarypolicy/fomcpresconf20140319.htm\">Press Conference</a><br/>\n",
       "<strong>Projection Materials</strong><br/>\n",
       "<a href=\"/monetarypolicy/files/fomcprojtabl20140319.pdf\">PDF</a> | <a href=\"/monetarypolicy/fomcprojtabl20140319.htm\">HTML</a><br/>\n",
       "</div>\n",
       "<div class=\"col-xs-12 col-md-4 col-lg-4 fomc-meeting__minutes\">\n",
       "<strong>Minutes:</strong><br/>\n",
       "<a href=\"/monetarypolicy/files/fomcminutes20140319.pdf\">PDF</a> | <a href=\"/monetarypolicy/fomcminutes20140319.htm\">HTML</a>\n",
       "<br/> (Released April 09, 2014)\n",
       "                    \t\n",
       "                    \t\n",
       "                    \t</div>\n",
       "</div>\n",
       "<div class=\"row fomc-meeting\">\n",
       "<div class=\"fomc-meeting__month col-xs-5 col-sm-3 col-md-2\"><strong>April</strong></div>\n",
       "<div class=\"fomc-meeting__date col-xs-4 col-sm-9 col-md-10 col-lg-1\">29-30</div>\n",
       "<div class=\"col-xs-12 col-md-4 col-lg-2\">\n",
       "<a href=\"/newsevents/pressreleases/monetary20140430a.htm\">Statement</a><br/>\n",
       "</div>\n",
       "<div class=\"col-xs-12 col-md-4 col-lg-3\">\n",
       "</div>\n",
       "<div class=\"col-xs-12 col-md-4 col-lg-4 fomc-meeting__minutes\">\n",
       "<strong>Minutes:</strong><br/>\n",
       "<a href=\"/monetarypolicy/files/fomcminutes20140430.pdf\">PDF</a> | <a href=\"/monetarypolicy/fomcminutes20140430.htm\">HTML</a>\n",
       "<br/> (Released May 21, 2014)\n",
       "                    \t\n",
       "                    \t\n",
       "                    \t</div>\n",
       "</div>\n",
       "<div class=\"fomc-meeting--shaded row fomc-meeting\">\n",
       "<div class=\"fomc-meeting--shaded fomc-meeting__month col-xs-5 col-sm-3 col-md-2\"><strong>June</strong></div>\n",
       "<div class=\"fomc-meeting__date col-xs-4 col-sm-9 col-md-10 col-lg-1\">17-18*</div>\n",
       "<div class=\"col-xs-12 col-md-4 col-lg-2\">\n",
       "<a href=\"/newsevents/pressreleases/monetary20140618a.htm\">Statement</a><br/>\n",
       "</div>\n",
       "<div class=\"col-xs-12 col-md-4 col-lg-3\">\n",
       "<a href=\"/monetarypolicy/fomcpresconf20140618.htm\">Press Conference</a><br/>\n",
       "<strong>Projection Materials</strong><br/>\n",
       "<a href=\"/monetarypolicy/files/fomcprojtabl20140618.pdf\">PDF</a> | <a href=\"/monetarypolicy/fomcprojtabl20140618.htm\">HTML</a><br/>\n",
       "</div>\n",
       "<div class=\"col-xs-12 col-md-4 col-lg-4 fomc-meeting__minutes\">\n",
       "<strong>Minutes:</strong><br/>\n",
       "<a href=\"/monetarypolicy/files/fomcminutes20140618.pdf\">PDF</a> | <a href=\"/monetarypolicy/fomcminutes20140618.htm\">HTML</a>\n",
       "<br/> (Released July 09, 2014)\n",
       "                    \t\n",
       "                    \t\n",
       "                    \t</div>\n",
       "</div>\n",
       "<div class=\"row fomc-meeting\">\n",
       "<div class=\"fomc-meeting__month col-xs-5 col-sm-3 col-md-2\"><strong>July</strong></div>\n",
       "<div class=\"fomc-meeting__date col-xs-4 col-sm-9 col-md-10 col-lg-1\">29-30</div>\n",
       "<div class=\"col-xs-12 col-md-4 col-lg-2\">\n",
       "<a href=\"/newsevents/pressreleases/monetary20140730a.htm\">Statement</a><br/>\n",
       "</div>\n",
       "<div class=\"col-xs-12 col-md-4 col-lg-3\">\n",
       "</div>\n",
       "<div class=\"col-xs-12 col-md-4 col-lg-4 fomc-meeting__minutes\">\n",
       "<strong>Minutes:</strong><br/>\n",
       "<a href=\"/monetarypolicy/files/fomcminutes20140730.pdf\">PDF</a> | <a href=\"/monetarypolicy/fomcminutes20140730.htm\">HTML</a>\n",
       "<br/> (Released August 20, 2014)\n",
       "                    \t\n",
       "                    \t\n",
       "                    \t</div>\n",
       "</div>\n",
       "<div class=\"fomc-meeting--shaded row fomc-meeting\">\n",
       "<div class=\"fomc-meeting--shaded fomc-meeting__month col-xs-5 col-sm-3 col-md-2\"><strong>September</strong></div>\n",
       "<div class=\"fomc-meeting__date col-xs-4 col-sm-9 col-md-10 col-lg-1\">16-17*</div>\n",
       "<div class=\"col-xs-12 col-md-4 col-lg-2\">\n",
       "<a href=\"/newsevents/pressreleases/monetary20140917a.htm\">Statement</a><br/>\n",
       "</div>\n",
       "<div class=\"col-xs-12 col-md-4 col-lg-3\">\n",
       "<a href=\"/monetarypolicy/fomcpresconf20140917.htm\">Press Conference</a><br/>\n",
       "<strong>Projection Materials</strong><br/>\n",
       "<a href=\"/monetarypolicy/files/fomcprojtabl20140917.pdf\">PDF</a> | <a href=\"/monetarypolicy/fomcprojtabl20140917.htm\">HTML</a><br/>\n",
       "<a href=\"/newsevents/pressreleases/monetary20140917c.htm\">Policy Normalization Principles and Plans</a>\n",
       "</div>\n",
       "<div class=\"col-xs-12 col-md-4 col-lg-4 fomc-meeting__minutes\">\n",
       "<strong>Minutes:</strong><br/>\n",
       "<a href=\"/monetarypolicy/files/fomcminutes20140917.pdf\">PDF</a> | <a href=\"/monetarypolicy/fomcminutes20140917.htm\">HTML</a>\n",
       "<br/> (Released October 08, 2014)\n",
       "                    \t\n",
       "                    \t\n",
       "                    \t</div>\n",
       "</div>\n",
       "<div class=\"row fomc-meeting\">\n",
       "<div class=\"fomc-meeting__month col-xs-5 col-sm-3 col-md-2\"><strong>October</strong></div>\n",
       "<div class=\"fomc-meeting__date col-xs-4 col-sm-9 col-md-10 col-lg-1\">28-29</div>\n",
       "<div class=\"col-xs-12 col-md-4 col-lg-2\">\n",
       "<a href=\"/newsevents/pressreleases/monetary20141029a.htm\">Statement</a><br/>\n",
       "</div>\n",
       "<div class=\"col-xs-12 col-md-4 col-lg-3\">\n",
       "</div>\n",
       "<div class=\"col-xs-12 col-md-4 col-lg-4 fomc-meeting__minutes\">\n",
       "<strong>Minutes:</strong><br/>\n",
       "<a href=\"/monetarypolicy/files/fomcminutes20141029.pdf\">PDF</a> | <a href=\"/monetarypolicy/fomcminutes20141029.htm\">HTML</a>\n",
       "<br/> (Released November 19, 2014)\n",
       "                    \t\n",
       "                    \t\n",
       "                    \t</div>\n",
       "</div>\n",
       "<div class=\"fomc-meeting--shaded row fomc-meeting\">\n",
       "<div class=\"fomc-meeting--shaded fomc-meeting__month col-xs-5 col-sm-3 col-md-2\"><strong>December</strong></div>\n",
       "<div class=\"fomc-meeting__date col-xs-4 col-sm-9 col-md-10 col-lg-1\">16-17*</div>\n",
       "<div class=\"col-xs-12 col-md-4 col-lg-2\">\n",
       "<a href=\"/newsevents/pressreleases/monetary20141217a.htm\">Statement</a><br/>\n",
       "</div>\n",
       "<div class=\"col-xs-12 col-md-4 col-lg-3\">\n",
       "<a href=\"/monetarypolicy/fomcpresconf20141217.htm\">Press Conference</a><br/>\n",
       "<strong>Projection Materials</strong><br/>\n",
       "<a href=\"/monetarypolicy/files/fomcprojtabl20141217.pdf\">PDF</a> | <a href=\"/monetarypolicy/fomcprojtabl20141217.htm\">HTML</a><br/>\n",
       "</div>\n",
       "<div class=\"col-xs-12 col-md-4 col-lg-4 fomc-meeting__minutes\">\n",
       "<strong>Minutes:</strong><br/>\n",
       "<a href=\"/monetarypolicy/files/fomcminutes20141217.pdf\">PDF</a> | <a href=\"/monetarypolicy/fomcminutes20141217.htm\">HTML</a>\n",
       "<br/> (Released January 07, 2015)\n",
       "                    \t\n",
       "                    \t\n",
       "                    \t</div>\n",
       "</div>\n",
       "<div class=\"panel-footer\">* Meeting associated with a Summary of Economic Projections and a press conference by the Chair. </div>\n",
       "</div>"
      ]
     },
     "execution_count": 37,
     "metadata": {},
     "output_type": "execute_result"
    }
   ],
   "source": [
    "year_panels[5]"
   ]
  },
  {
   "cell_type": "code",
   "execution_count": 41,
   "metadata": {},
   "outputs": [],
   "source": [
    "months = year_panels[5].find_all(class_='fomc-meeting__month')\n",
    "days = year_panels[5].find_all(class_='fomc-meeting__date')\n"
   ]
  },
  {
   "cell_type": "code",
   "execution_count": null,
   "metadata": {},
   "outputs": [],
   "source": []
  },
  {
   "cell_type": "code",
   "execution_count": 53,
   "metadata": {},
   "outputs": [],
   "source": [
    "dates = []\n",
    "regex = re.compile(r'[^[0-9]+$]')\n",
    "for i in range(len(months)):\n",
    "    \n",
    "    month = months[i].string.split('/')[-1:][0]\n",
    "    day = day = re.sub('\\D',\"\", days[i].string.split('-')[-1:][0])\n",
    "\n",
    "    date=datetime.strptime(month+day,'%B%d')\n",
    "    dates.append(date.strftime(\"%m%d\"))\n",
    "    \n",
    "    "
   ]
  },
  {
   "cell_type": "code",
   "execution_count": 52,
   "metadata": {},
   "outputs": [
    {
     "data": {
      "text/plain": [
       "'4'"
      ]
     },
     "execution_count": 52,
     "metadata": {},
     "output_type": "execute_result"
    }
   ],
   "source": [
    "\n",
    "day = re.sub('\\D',\"\", days[i].string.split('-')[-1:][0])\n",
    "day"
   ]
  },
  {
   "cell_type": "code",
   "execution_count": 44,
   "metadata": {},
   "outputs": [
    {
     "data": {
      "text/plain": [
       "'March '"
      ]
     },
     "execution_count": 44,
     "metadata": {},
     "output_type": "execute_result"
    }
   ],
   "source": [
    "months[1].string.split('/')[-1:][0]"
   ]
  },
  {
   "cell_type": "code",
   "execution_count": 45,
   "metadata": {},
   "outputs": [
    {
     "data": {
      "text/plain": [
       "'4 (unscheduled)'"
      ]
     },
     "execution_count": 45,
     "metadata": {},
     "output_type": "execute_result"
    }
   ],
   "source": [
    "days[1].string.split('-')[-1:][0].strip('*')"
   ]
  },
  {
   "cell_type": "code",
   "execution_count": 54,
   "metadata": {},
   "outputs": [
    {
     "data": {
      "text/plain": [
       "['0129', '0304', '0319', '0430', '0618', '0730', '0917', '1029', '1217']"
      ]
     },
     "execution_count": 54,
     "metadata": {},
     "output_type": "execute_result"
    }
   ],
   "source": [
    "dates"
   ]
  },
  {
   "cell_type": "code",
   "execution_count": null,
   "metadata": {},
   "outputs": [],
   "source": []
  }
 ],
 "metadata": {
  "kernelspec": {
   "display_name": "Python 3",
   "language": "python",
   "name": "python3"
  },
  "language_info": {
   "codemirror_mode": {
    "name": "ipython",
    "version": 3
   },
   "file_extension": ".py",
   "mimetype": "text/x-python",
   "name": "python",
   "nbconvert_exporter": "python",
   "pygments_lexer": "ipython3",
   "version": "3.7.2"
  }
 },
 "nbformat": 4,
 "nbformat_minor": 2
}
