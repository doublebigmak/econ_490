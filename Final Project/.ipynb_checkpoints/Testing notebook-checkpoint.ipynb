{
 "cells": [
  {
   "cell_type": "code",
   "execution_count": 1,
   "metadata": {},
   "outputs": [],
   "source": [
    "from bs4 import BeautifulSoup\n",
    "import requests\n",
    "import re\n",
    "import numpy as np\n",
    "import pandas as pd\n"
   ]
  },
  {
   "cell_type": "code",
   "execution_count": 48,
   "metadata": {},
   "outputs": [],
   "source": [
    "\n",
    "new_url = 'https://www.federalreserve.gov/monetarypolicy/fomccalendars.htm'\n",
    "\n",
    "year = str(2013) # placeholder year \n",
    "historical_url = 'https://www.federalreserve.gov/monetarypolicy/fomchistorical'+year+'.htm'\n",
    "\n",
    "response=requests.get(new_url, timeout=10)\n",
    "\n",
    "parsed_content = BeautifulSoup(response.content, \"html.parser\")\n",
    "\n",
    "article = parsed_content.find(attrs={'id':'article'})\n",
    "year_panels = article.find_all(attrs={'class':'panel panel-default'})\n",
    "panel_headings = article.find_all(attrs={'class':'panel-heading'})\n",
    "#print(article)\n",
    "#print(panel_headings)\n",
    "\n",
    "\n",
    "years=[]\n",
    "for item in year_panels:\n",
    "    \n",
    "    years.append(item.find('a').string.split()[0])"
   ]
  },
  {
   "cell_type": "code",
   "execution_count": 51,
   "metadata": {},
   "outputs": [
    {
     "data": {
      "text/plain": [
       "['2019', '2018', '2017', '2016', '2015', '2014']"
      ]
     },
     "execution_count": 51,
     "metadata": {},
     "output_type": "execute_result"
    }
   ],
   "source": [
    "years"
   ]
  },
  {
   "cell_type": "raw",
   "metadata": {},
   "source": []
  },
  {
   "cell_type": "code",
   "execution_count": 15,
   "metadata": {},
   "outputs": [
    {
     "data": {
      "text/plain": [
       "<div class=\"panel panel-default\"><div class=\"panel-heading\"><h4><a id=\"18178\">2019 FOMC Meetings</a></h4></div>\n",
       "<div class=\"row fomc-meeting\">\n",
       "<div class=\"fomc-meeting__month col-xs-5 col-sm-3 col-md-2\"><strong>January</strong></div>\n",
       "<div class=\"fomc-meeting__date col-xs-4 col-sm-9 col-md-10 col-lg-1\">29-30</div>\n",
       "<div class=\"col-xs-12 col-md-4 col-lg-2\">\n",
       "<strong>Statement:</strong><br/>\n",
       "<a href=\"/monetarypolicy/files/monetary20190130a1.pdf\">PDF</a> | <a href=\"/newsevents/pressreleases/monetary20190130a.htm\">HTML</a><br/>\n",
       "<a href=\"/newsevents/pressreleases/monetary20190130a1.htm\">Implementation Note</a>\n",
       "</div>\n",
       "<div class=\"col-xs-12 col-md-4 col-lg-3\">\n",
       "<a href=\"/monetarypolicy/fomcpresconf20190130.htm\">Press Conference</a><br/>\n",
       "<a href=\"/newsevents/pressreleases/monetary20190130b.htm\">Longer-Run Goals and Policy Strategy</a>\n",
       "<br><a href=\"/newsevents/pressreleases/monetary20190130c.htm\">Statement Regarding Monetary Policy Implementation and Balance Sheet Normalization</a>\n",
       "</br></div>\n",
       "<div class=\"col-xs-12 col-md-4 col-lg-4 fomc-meeting__minutes\">\n",
       "<strong>Minutes:</strong><br/>\n",
       "<a href=\"/monetarypolicy/files/fomcminutes20190130.pdf\">PDF</a> | <a href=\"/monetarypolicy/fomcminutes20190130.htm\">HTML</a>\n",
       "<br/> (Released February 20, 2019)\n",
       "                    \t\n",
       "                    \t\n",
       "                    \t</div>\n",
       "</div>\n",
       "<div class=\"fomc-meeting--shaded row fomc-meeting\">\n",
       "<div class=\"fomc-meeting--shaded fomc-meeting__month col-xs-5 col-sm-3 col-md-2\"><strong>March</strong></div>\n",
       "<div class=\"fomc-meeting__date col-xs-4 col-sm-9 col-md-10 col-lg-1\">19-20*</div>\n",
       "<div class=\"col-xs-12 col-md-4 col-lg-2\">\n",
       "<strong>Statement:</strong><br/>\n",
       "<a href=\"/monetarypolicy/files/monetary20190320a1.pdf\">PDF</a> | <a href=\"/newsevents/pressreleases/monetary20190320a.htm\">HTML</a><br/>\n",
       "<a href=\"/newsevents/pressreleases/monetary20190320a1.htm\">Implementation Note</a>\n",
       "</div>\n",
       "<div class=\"col-xs-12 col-md-4 col-lg-3\">\n",
       "<a href=\"/monetarypolicy/fomcpresconf20190320.htm\">Press Conference</a><br/>\n",
       "<strong>Projection Materials</strong><br/>\n",
       "<a href=\"/monetarypolicy/files/fomcprojtabl20190320.pdf\">PDF</a> | <a href=\"/monetarypolicy/fomcprojtabl20190320.htm\">HTML</a><br/>\n",
       "<br><a href=\"/newsevents/pressreleases/monetary20190320c.htm\">Balance Sheet Normalization Principles and Plans</a>\n",
       "</br></div>\n",
       "<div class=\"col-xs-12 col-md-4 col-lg-4 fomc-meeting__minutes\">\n",
       "</div>\n",
       "</div>\n",
       "<div class=\"row fomc-meeting\">\n",
       "<div class=\"fomc-meeting__month col-xs-5 col-sm-3 col-md-2\"><strong>April/May</strong></div>\n",
       "<div class=\"fomc-meeting__date col-xs-4 col-sm-9 col-md-10 col-lg-1\">30-1</div>\n",
       "<div class=\"col-xs-12 col-md-4 col-lg-2\">\n",
       "</div>\n",
       "<div class=\"col-xs-12 col-md-4 col-lg-3\">\n",
       "</div>\n",
       "<div class=\"col-xs-12 col-md-4 col-lg-4 fomc-meeting__minutes\">\n",
       "</div>\n",
       "</div>\n",
       "<div class=\"fomc-meeting--shaded row fomc-meeting\">\n",
       "<div class=\"fomc-meeting--shaded fomc-meeting__month col-xs-5 col-sm-3 col-md-2\"><strong>June</strong></div>\n",
       "<div class=\"fomc-meeting__date col-xs-4 col-sm-9 col-md-10 col-lg-1\">18-19*</div>\n",
       "<div class=\"col-xs-12 col-md-4 col-lg-2\">\n",
       "</div>\n",
       "<div class=\"col-xs-12 col-md-4 col-lg-3\">\n",
       "</div>\n",
       "<div class=\"col-xs-12 col-md-4 col-lg-4 fomc-meeting__minutes\">\n",
       "</div>\n",
       "</div>\n",
       "<div class=\"row fomc-meeting\">\n",
       "<div class=\"fomc-meeting__month col-xs-5 col-sm-3 col-md-2\"><strong>July</strong></div>\n",
       "<div class=\"fomc-meeting__date col-xs-4 col-sm-9 col-md-10 col-lg-1\">30-31</div>\n",
       "<div class=\"col-xs-12 col-md-4 col-lg-2\">\n",
       "</div>\n",
       "<div class=\"col-xs-12 col-md-4 col-lg-3\">\n",
       "</div>\n",
       "<div class=\"col-xs-12 col-md-4 col-lg-4 fomc-meeting__minutes\">\n",
       "</div>\n",
       "</div>\n",
       "<div class=\"fomc-meeting--shaded row fomc-meeting\">\n",
       "<div class=\"fomc-meeting--shaded fomc-meeting__month col-xs-5 col-sm-3 col-md-2\"><strong>September</strong></div>\n",
       "<div class=\"fomc-meeting__date col-xs-4 col-sm-9 col-md-10 col-lg-1\">17-18*</div>\n",
       "<div class=\"col-xs-12 col-md-4 col-lg-2\">\n",
       "</div>\n",
       "<div class=\"col-xs-12 col-md-4 col-lg-3\">\n",
       "</div>\n",
       "<div class=\"col-xs-12 col-md-4 col-lg-4 fomc-meeting__minutes\">\n",
       "</div>\n",
       "</div>\n",
       "<div class=\"row fomc-meeting\">\n",
       "<div class=\"fomc-meeting__month col-xs-5 col-sm-3 col-md-2\"><strong>October</strong></div>\n",
       "<div class=\"fomc-meeting__date col-xs-4 col-sm-9 col-md-10 col-lg-1\">29-30</div>\n",
       "<div class=\"col-xs-12 col-md-4 col-lg-2\">\n",
       "</div>\n",
       "<div class=\"col-xs-12 col-md-4 col-lg-3\">\n",
       "</div>\n",
       "<div class=\"col-xs-12 col-md-4 col-lg-4 fomc-meeting__minutes\">\n",
       "</div>\n",
       "</div>\n",
       "<div class=\"fomc-meeting--shaded row fomc-meeting\">\n",
       "<div class=\"fomc-meeting--shaded fomc-meeting__month col-xs-5 col-sm-3 col-md-2\"><strong>December</strong></div>\n",
       "<div class=\"fomc-meeting__date col-xs-4 col-sm-9 col-md-10 col-lg-1\">10-11*</div>\n",
       "<div class=\"col-xs-12 col-md-4 col-lg-2\">\n",
       "</div>\n",
       "<div class=\"col-xs-12 col-md-4 col-lg-3\">\n",
       "</div>\n",
       "<div class=\"col-xs-12 col-md-4 col-lg-4 fomc-meeting__minutes\">\n",
       "</div>\n",
       "</div>\n",
       "<div class=\"panel-footer\">* Meeting associated with a Summary of Economic Projections. </div>\n",
       "</div>"
      ]
     },
     "execution_count": 15,
     "metadata": {},
     "output_type": "execute_result"
    }
   ],
   "source": [
    "year_panels[0]"
   ]
  },
  {
   "cell_type": "code",
   "execution_count": 22,
   "metadata": {},
   "outputs": [],
   "source": [
    "months = year_panels[0].find_all(class_='fomc-meeting__month')\n",
    "days = year_panels[0].find_all(class_='fomc-meeting__date')\n"
   ]
  },
  {
   "cell_type": "code",
   "execution_count": 23,
   "metadata": {},
   "outputs": [],
   "source": []
  },
  {
   "cell_type": "code",
   "execution_count": 74,
   "metadata": {},
   "outputs": [],
   "source": [
    "date = []\n",
    "for i in range(len(months)):\n",
    "    \n",
    "    month = months[i].string.split('/')[-1:][0]\n",
    "    date.append(month+days[i].string)\n",
    "    \n",
    "    "
   ]
  },
  {
   "cell_type": "code",
   "execution_count": 25,
   "metadata": {},
   "outputs": [
    {
     "data": {
      "text/plain": [
       "['January29-30',\n",
       " 'March19-20*',\n",
       " 'April/May30-1',\n",
       " 'June18-19*',\n",
       " 'July30-31',\n",
       " 'September17-18*',\n",
       " 'October29-30',\n",
       " 'December10-11*']"
      ]
     },
     "execution_count": 25,
     "metadata": {},
     "output_type": "execute_result"
    }
   ],
   "source": [
    "date"
   ]
  },
  {
   "cell_type": "code",
   "execution_count": 72,
   "metadata": {},
   "outputs": [
    {
     "data": {
      "text/plain": [
       "'January'"
      ]
     },
     "execution_count": 72,
     "metadata": {},
     "output_type": "execute_result"
    }
   ],
   "source": [
    "months[0].string.split('/')[-1:][0]"
   ]
  },
  {
   "cell_type": "code",
   "execution_count": 75,
   "metadata": {},
   "outputs": [
    {
     "data": {
      "text/plain": [
       "['January29-30',\n",
       " 'March19-20*',\n",
       " 'May30-1',\n",
       " 'June18-19*',\n",
       " 'July30-31',\n",
       " 'September17-18*',\n",
       " 'October29-30',\n",
       " 'December10-11*']"
      ]
     },
     "execution_count": 75,
     "metadata": {},
     "output_type": "execute_result"
    }
   ],
   "source": [
    "date"
   ]
  },
  {
   "cell_type": "code",
   "execution_count": null,
   "metadata": {},
   "outputs": [],
   "source": []
  }
 ],
 "metadata": {
  "kernelspec": {
   "display_name": "Python 3",
   "language": "python",
   "name": "python3"
  },
  "language_info": {
   "codemirror_mode": {
    "name": "ipython",
    "version": 3
   },
   "file_extension": ".py",
   "mimetype": "text/x-python",
   "name": "python",
   "nbconvert_exporter": "python",
   "pygments_lexer": "ipython3",
   "version": "3.7.2"
  }
 },
 "nbformat": 4,
 "nbformat_minor": 2
}
